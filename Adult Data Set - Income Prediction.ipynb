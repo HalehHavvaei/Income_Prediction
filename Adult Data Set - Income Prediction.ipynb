{
 "cells": [
  {
   "cell_type": "markdown",
   "metadata": {
    "collapsed": true,
    "pycharm": {
     "name": "#%% md\n"
    }
   },
   "source": [
    "## UCI Machine Learning Repository : Adult Data Set\n",
    "\n",
    "##### Goal : Predict whether income exceeds $50K/yr based on census data"
   ]
  },
  {
   "cell_type": "code",
   "execution_count": 2,
   "metadata": {
    "pycharm": {
     "is_executing": false,
     "name": "#%%\n"
    }
   },
   "outputs": [],
   "source": [
    "# import for data-analysis\n",
    "import pandas as pd\n",
    "\n",
    "import numpy as np\n",
    "import matplotlib.pyplot as plt\n",
    "\n",
    "# import for calculations\n",
    "from sklearn import metrics\n",
    "\n",
    "# import for splitting data into training data and testing data\n",
    "from sklearn.model_selection import train_test_split\n",
    "\n",
    "# imports for machine learning models\n",
    "from sklearn.linear_model import LogisticRegression\n",
    "from sklearn import svm\n",
    "from sklearn import tree\n",
    "from sklearn.neighbors import KNeighborsClassifier\n",
    "from sklearn.tree import DecisionTreeClassifier\n",
    "from sklearn.ensemble import RandomForestClassifier\n",
    "from sklearn.ensemble import AdaBoostClassifier\n",
    "from sklearn.neural_network import MLPClassifier\n",
    "\n",
    "# import to binarize output labels\n",
    "from sklearn.preprocessing import label_binarize\n",
    "\n",
    "# import for normalizing data\n",
    "from sklearn.preprocessing import StandardScaler\n",
    "\n",
    "# import to display tables\n",
    "from IPython.display import display\n",
    "\n",
    "# set seed to avoid result variations\n",
    "np.random.seed(0)\n",
    "\n",
    "# import data\n",
    "column_names = ['age', 'workclass', 'fnlwgt', 'education', 'education-num', 'marital-status', 'occupation', 'relationship',\n",
    "                'race', 'sex', 'capital-gain', 'capital-loss', 'hours-per-week', 'native-country', 'income']\n",
    "train = pd.read_csv('adult_data.csv', sep=',\\s', header=None, names=column_names, engine='python')\n",
    "test = pd.read_csv('adult_test.csv', sep=',\\s', header=None, names=column_names, engine='python')\n",
    "\n",
    "# 'income' column in test data has periods at the end which need to be removed\n",
    "test['income'].replace(regex=True, inplace=True, to_replace=r'\\.', value=r'')"
   ]
  },
  {
   "cell_type": "markdown",
   "metadata": {
    "pycharm": {
     "is_executing": false,
     "name": "#%% md\n"
    }
   },
   "source": [
    "### 1.0 Data Analysis (Training + Test Data)\n",
    "\n",
    "#### 1.1 Column Descriptions"
   ]
  },
  {
   "cell_type": "code",
   "execution_count": 3,
   "metadata": {
    "pycharm": {
     "is_executing": false,
     "name": "#%%\n"
    }
   },
   "outputs": [
    {
     "name": "stdout",
     "output_type": "stream",
     "text": [
      "<class 'pandas.core.frame.DataFrame'>\n",
      "RangeIndex: 48842 entries, 0 to 48841\n",
      "Data columns (total 15 columns):\n",
      "age               48842 non-null int64\n",
      "workclass         48842 non-null category\n",
      "fnlwgt            48842 non-null int64\n",
      "education         48842 non-null category\n",
      "education-num     48842 non-null int64\n",
      "marital-status    48842 non-null category\n",
      "occupation        48842 non-null category\n",
      "relationship      48842 non-null category\n",
      "race              48842 non-null category\n",
      "sex               48842 non-null category\n",
      "capital-gain      48842 non-null int64\n",
      "capital-loss      48842 non-null int64\n",
      "hours-per-week    48842 non-null int64\n",
      "native-country    48842 non-null category\n",
      "income            48842 non-null category\n",
      "dtypes: category(9), int64(6)\n",
      "memory usage: 2.7 MB\n",
      "None\n"
     ]
    }
   ],
   "source": [
    "# concatenate test and training data for overall statistics\n",
    "adult = pd.concat([test,train])\n",
    "\n",
    "# indexes get concatenated as well so reset them\n",
    "adult.reset_index(inplace = True, drop = True)\n",
    "\n",
    "# set type of categorical columns like 'workclass' as 'category'\n",
    "for col in set(adult.columns) - set(adult.describe().columns):\n",
    "    adult[col] = adult[col].astype('category')\n",
    "\n",
    "print(adult.info())"
   ]
  },
  {
   "cell_type": "markdown",
   "metadata": {
    "pycharm": {
     "is_executing": false,
     "name": "#%% md\n"
    }
   },
   "source": [
    "#### 1.2 Column Statistics"
   ]
  },
  {
   "cell_type": "code",
   "execution_count": 4,
   "metadata": {
    "pycharm": {
     "is_executing": false,
     "name": "#%%\n"
    }
   },
   "outputs": [
    {
     "data": {
      "text/html": [
       "<div>\n",
       "<style scoped>\n",
       "    .dataframe tbody tr th:only-of-type {\n",
       "        vertical-align: middle;\n",
       "    }\n",
       "\n",
       "    .dataframe tbody tr th {\n",
       "        vertical-align: top;\n",
       "    }\n",
       "\n",
       "    .dataframe thead th {\n",
       "        text-align: right;\n",
       "    }\n",
       "</style>\n",
       "<table border=\"1\" class=\"dataframe\">\n",
       "  <thead>\n",
       "    <tr style=\"text-align: right;\">\n",
       "      <th></th>\n",
       "      <th>age</th>\n",
       "      <th>fnlwgt</th>\n",
       "      <th>education-num</th>\n",
       "      <th>capital-gain</th>\n",
       "      <th>capital-loss</th>\n",
       "      <th>hours-per-week</th>\n",
       "    </tr>\n",
       "  </thead>\n",
       "  <tbody>\n",
       "    <tr>\n",
       "      <td>count</td>\n",
       "      <td>48842.000000</td>\n",
       "      <td>4.884200e+04</td>\n",
       "      <td>48842.000000</td>\n",
       "      <td>48842.000000</td>\n",
       "      <td>48842.000000</td>\n",
       "      <td>48842.000000</td>\n",
       "    </tr>\n",
       "    <tr>\n",
       "      <td>mean</td>\n",
       "      <td>38.643585</td>\n",
       "      <td>1.896641e+05</td>\n",
       "      <td>10.078089</td>\n",
       "      <td>1079.067626</td>\n",
       "      <td>87.502314</td>\n",
       "      <td>40.422382</td>\n",
       "    </tr>\n",
       "    <tr>\n",
       "      <td>std</td>\n",
       "      <td>13.710510</td>\n",
       "      <td>1.056040e+05</td>\n",
       "      <td>2.570973</td>\n",
       "      <td>7452.019058</td>\n",
       "      <td>403.004552</td>\n",
       "      <td>12.391444</td>\n",
       "    </tr>\n",
       "    <tr>\n",
       "      <td>min</td>\n",
       "      <td>17.000000</td>\n",
       "      <td>1.228500e+04</td>\n",
       "      <td>1.000000</td>\n",
       "      <td>0.000000</td>\n",
       "      <td>0.000000</td>\n",
       "      <td>1.000000</td>\n",
       "    </tr>\n",
       "    <tr>\n",
       "      <td>25%</td>\n",
       "      <td>28.000000</td>\n",
       "      <td>1.175505e+05</td>\n",
       "      <td>9.000000</td>\n",
       "      <td>0.000000</td>\n",
       "      <td>0.000000</td>\n",
       "      <td>40.000000</td>\n",
       "    </tr>\n",
       "    <tr>\n",
       "      <td>50%</td>\n",
       "      <td>37.000000</td>\n",
       "      <td>1.781445e+05</td>\n",
       "      <td>10.000000</td>\n",
       "      <td>0.000000</td>\n",
       "      <td>0.000000</td>\n",
       "      <td>40.000000</td>\n",
       "    </tr>\n",
       "    <tr>\n",
       "      <td>75%</td>\n",
       "      <td>48.000000</td>\n",
       "      <td>2.376420e+05</td>\n",
       "      <td>12.000000</td>\n",
       "      <td>0.000000</td>\n",
       "      <td>0.000000</td>\n",
       "      <td>45.000000</td>\n",
       "    </tr>\n",
       "    <tr>\n",
       "      <td>max</td>\n",
       "      <td>90.000000</td>\n",
       "      <td>1.490400e+06</td>\n",
       "      <td>16.000000</td>\n",
       "      <td>99999.000000</td>\n",
       "      <td>4356.000000</td>\n",
       "      <td>99.000000</td>\n",
       "    </tr>\n",
       "  </tbody>\n",
       "</table>\n",
       "</div>"
      ],
      "text/plain": [
       "                age        fnlwgt  education-num  capital-gain  capital-loss  \\\n",
       "count  48842.000000  4.884200e+04   48842.000000  48842.000000  48842.000000   \n",
       "mean      38.643585  1.896641e+05      10.078089   1079.067626     87.502314   \n",
       "std       13.710510  1.056040e+05       2.570973   7452.019058    403.004552   \n",
       "min       17.000000  1.228500e+04       1.000000      0.000000      0.000000   \n",
       "25%       28.000000  1.175505e+05       9.000000      0.000000      0.000000   \n",
       "50%       37.000000  1.781445e+05      10.000000      0.000000      0.000000   \n",
       "75%       48.000000  2.376420e+05      12.000000      0.000000      0.000000   \n",
       "max       90.000000  1.490400e+06      16.000000  99999.000000   4356.000000   \n",
       "\n",
       "       hours-per-week  \n",
       "count    48842.000000  \n",
       "mean        40.422382  \n",
       "std         12.391444  \n",
       "min          1.000000  \n",
       "25%         40.000000  \n",
       "50%         40.000000  \n",
       "75%         45.000000  \n",
       "max         99.000000  "
      ]
     },
     "execution_count": 4,
     "metadata": {},
     "output_type": "execute_result"
    }
   ],
   "source": [
    "adult.describe()"
   ]
  },
  {
   "cell_type": "markdown",
   "metadata": {
    "pycharm": {
     "name": "#%% md\n"
    }
   },
   "source": [
    "### 2.0 Missing Values"
   ]
  },
  {
   "cell_type": "code",
   "execution_count": 5,
   "metadata": {
    "pycharm": {
     "is_executing": false,
     "name": "#%%\n"
    }
   },
   "outputs": [
    {
     "name": "stdout",
     "output_type": "stream",
     "text": [
      "age : 0 records\n",
      "workclass : 2799 records\n",
      "fnlwgt : 0 records\n",
      "education : 0 records\n",
      "education-num : 0 records\n",
      "marital-status : 0 records\n",
      "occupation : 2809 records\n",
      "relationship : 0 records\n",
      "race : 0 records\n",
      "sex : 0 records\n",
      "capital-gain : 0 records\n",
      "capital-loss : 0 records\n",
      "hours-per-week : 0 records\n",
      "native-country : 857 records\n",
      "income : 0 records\n"
     ]
    }
   ],
   "source": [
    "for i,j in zip(adult.columns,(adult.values.astype(str) == '?').sum(axis = 0)):\n",
    "    print(str(i) + ' : ' + str(j) + ' records')"
   ]
  },
  {
   "cell_type": "markdown",
   "metadata": {
    "pycharm": {
     "name": "#%% md\n"
    }
   },
   "source": [
    "From the calculations above, it can be seen that three columns have missing values:\n",
    "\n",
    "workclass : 2799<br/>\n",
    "occupation : 2809<br/>\n",
    "native-country : 857<br/>"
   ]
  },
  {
   "cell_type": "markdown",
   "metadata": {
    "pycharm": {
     "is_executing": false,
     "name": "#%% md\n"
    }
   },
   "source": [
    "#### 2.1 Missing value prediction\n",
    "\n",
    "For each of the three columns with missing values,\n",
    "we make predictions using logistic regression, decision trees, and random forests.\n",
    "Predictions are based on the values of all columns other than the one under consideration.\n",
    "If more than two predictors predict the same value, then it is considered as the final value.\n",
    "If no predictors predict the same value, the majority value for that column is considered as the final value."
   ]
  },
  {
   "cell_type": "markdown",
   "metadata": {
    "pycharm": {
     "name": "#%% md\n"
    }
   },
   "source": [
    "#### 2.2 Predicting missing 'workclass' values"
   ]
  },
  {
   "cell_type": "code",
   "execution_count": 6,
   "metadata": {
    "pycharm": {
     "is_executing": false,
     "name": "#%%\n"
    }
   },
   "outputs": [
    {
     "name": "stderr",
     "output_type": "stream",
     "text": [
      "/opt/anaconda3/lib/python3.7/site-packages/sklearn/linear_model/logistic.py:469: FutureWarning: Default multi_class will be changed to 'auto' in 0.22. Specify the multi_class option to silence this warning.\n",
      "  \"this warning.\", FutureWarning)\n",
      "/opt/anaconda3/lib/python3.7/site-packages/sklearn/linear_model/sag.py:337: ConvergenceWarning: The max_iter was reached which means the coef_ did not converge\n",
      "  \"the coef_ did not converge\", ConvergenceWarning)\n"
     ]
    },
    {
     "name": "stdout",
     "output_type": "stream",
     "text": [
      "Private             36060\n",
      "Self-emp-not-inc     3877\n",
      "Local-gov            3143\n",
      "State-gov            1982\n",
      "Self-emp-inc         1696\n",
      "Federal-gov          1432\n",
      "Never-worked          631\n",
      "Without-pay            21\n",
      "?                       0\n",
      "Name: workclass, dtype: int64\n",
      "[Private, Local-gov, Never-worked, Self-emp-not-inc, Federal-gov, State-gov, Self-emp-inc, Without-pay]\n",
      "Categories (8, object): [Private, Local-gov, Never-worked, Self-emp-not-inc, Federal-gov, State-gov, Self-emp-inc, Without-pay]\n"
     ]
    }
   ],
   "source": [
    "# df stores all columns except the column with missing values which are to be predicted\n",
    "# df_cols stores all categorical columns like 'income' (income is either <=50K or >50K)\n",
    "# df_1 stores all the non-categorical columns like 'age'\n",
    "# df_2 stores all categorical columns in 'one-hot-encoded' form\n",
    "# columns like 'income' are converted to 'income_<=50K' and 'income_>50K' depending on their values\n",
    "# column 'income_<=50K' gets set to 1 if column 'income' had value '<=50K' or 0 if 'income' had value '>50K'\n",
    "def one_hot_enc_cat_cols(df, df_cols):\n",
    "    df_1 = df.drop(columns = df_cols, axis = 1)\n",
    "    df_2 = pd.get_dummies(df[df_cols])    \n",
    "    return pd.concat([df_1, df_2], axis=1, join='inner')\n",
    "\n",
    "# test_data stores all rows which have a missing value for 'workclass'\n",
    "test_data = adult[(adult.workclass.values == '?')].copy()\n",
    "# test_label stores 'workclass' for all rows where it is missing (all are ?)\n",
    "test_label = test_data.workclass\n",
    "\n",
    "# train_data stores all rows which have a value for 'workclass'\n",
    "train_data = adult[(adult.workclass.values != '?')].copy()\n",
    "# train_label stores 'workclass' for all rows where it is present\n",
    "train_label = train_data.workclass\n",
    "\n",
    "# drop the 'workclass' column from both training and test data\n",
    "test_data.drop(columns = ['workclass'], inplace = True)\n",
    "train_data.drop(columns = ['workclass'], inplace = True)\n",
    "\n",
    "# call function to do one-hot-encoding of the categorical columns\n",
    "train_data = one_hot_enc_cat_cols(train_data, train_data.select_dtypes('category').columns)\n",
    "test_data = one_hot_enc_cat_cols(test_data, test_data.select_dtypes('category').columns)\n",
    "\n",
    "# train logistic regression classifier and predict missing data\n",
    "log_reg = LogisticRegression(max_iter=100, solver='saga')\n",
    "log_reg.fit(train_data, train_label)\n",
    "log_reg_pred = log_reg.predict(test_data)\n",
    "\n",
    "# train decision tree classifier and predict missing data\n",
    "dt_clf = tree.DecisionTreeClassifier()\n",
    "dt_clf = dt_clf.fit(train_data, train_label)\n",
    "dt_clf_pred = dt_clf.predict(test_data)\n",
    "\n",
    "# train random forest classifier and predict missing data\n",
    "r_forest = RandomForestClassifier(n_estimators=10)\n",
    "r_forest.fit(train_data, train_label)\n",
    "r_forest_pred = r_forest.predict(test_data)\n",
    "\n",
    "# value_counts() gives the different values and their frequencies sorted in descending order\n",
    "# majority_class holds the majority value for the column 'workclass'\n",
    "majority_class = adult.workclass.value_counts().index[0]\n",
    "# pred_df holds the predictions of all 3 classifiers for 'workclass' for all rows where it is missing\n",
    "pred_df =  pd.DataFrame({'RanFor': r_forest_pred, 'DecTree' : dt_clf_pred, 'LogReg' : log_reg_pred})\n",
    "\n",
    "# loop through the 'workclass' predictions of all 3 classifiers for every row of data where it was missing\n",
    "# if more than one classifier predicts the same value, consider it as the final value\n",
    "# otherwise predict the majority value as the final value\n",
    "overall_pred = pred_df.apply(lambda x: x.value_counts().index[0] if x.value_counts()[0] > 1 else majority_class, axis = 1)\n",
    "\n",
    "# fill the predicted values in the original data frame\n",
    "adult.loc[(adult.workclass.values == '?'),'workclass'] = overall_pred.values\n",
    "\n",
    "# confirm if there are no more missing values\n",
    "print(adult.workclass.value_counts());\n",
    "print(adult.workclass.unique());"
   ]
  },
  {
   "cell_type": "markdown",
   "metadata": {},
   "source": [
    "#### 2.3 Predicting missing 'occupation' values"
   ]
  },
  {
   "cell_type": "code",
   "execution_count": 7,
   "metadata": {
    "pycharm": {
     "is_executing": false,
     "name": "#%%\n"
    }
   },
   "outputs": [
    {
     "name": "stderr",
     "output_type": "stream",
     "text": [
      "/opt/anaconda3/lib/python3.7/site-packages/sklearn/linear_model/logistic.py:469: FutureWarning: Default multi_class will be changed to 'auto' in 0.22. Specify the multi_class option to silence this warning.\n",
      "  \"this warning.\", FutureWarning)\n",
      "/opt/anaconda3/lib/python3.7/site-packages/sklearn/linear_model/sag.py:337: ConvergenceWarning: The max_iter was reached which means the coef_ did not converge\n",
      "  \"the coef_ did not converge\", ConvergenceWarning)\n"
     ]
    },
    {
     "name": "stdout",
     "output_type": "stream",
     "text": [
      "Prof-specialty       7768\n",
      "Craft-repair         6581\n",
      "Exec-managerial      6138\n",
      "Adm-clerical         5824\n",
      "Sales                5601\n",
      "Other-service        5123\n",
      "Machine-op-inspct    3073\n",
      "Transport-moving     2396\n",
      "Handlers-cleaners    2103\n",
      "Farming-fishing      1517\n",
      "Tech-support         1466\n",
      "Protective-serv       988\n",
      "Priv-house-serv       249\n",
      "Armed-Forces           15\n",
      "?                       0\n",
      "Name: occupation, dtype: int64\n",
      "[Machine-op-inspct, Farming-fishing, Protective-serv, Adm-clerical, Other-service, ..., Sales, Priv-house-serv, Transport-moving, Handlers-cleaners, Armed-Forces]\n",
      "Length: 14\n",
      "Categories (14, object): [Machine-op-inspct, Farming-fishing, Protective-serv, Adm-clerical, ..., Priv-house-serv, Transport-moving, Handlers-cleaners, Armed-Forces]\n"
     ]
    }
   ],
   "source": [
    "test_data = adult[(adult.occupation.values == '?')].copy()\n",
    "test_label = test_data.occupation\n",
    "\n",
    "train_data = adult[(adult.occupation.values != '?')].copy()\n",
    "train_label = train_data.occupation\n",
    "\n",
    "test_data.drop(columns = ['occupation'], inplace = True)\n",
    "train_data.drop(columns = ['occupation'], inplace = True)\n",
    "\n",
    "train_data = one_hot_enc_cat_cols(train_data, train_data.select_dtypes('category').columns)\n",
    "test_data = one_hot_enc_cat_cols(test_data, test_data.select_dtypes('category').columns)\n",
    "\n",
    "log_reg = LogisticRegression(max_iter=100, solver='saga')\n",
    "log_reg.fit(train_data, train_label)\n",
    "log_reg_pred = log_reg.predict(test_data)\n",
    "\n",
    "dt_clf = tree.DecisionTreeClassifier()\n",
    "dt_clf = dt_clf.fit(train_data, train_label)\n",
    "dt_clf_pred = dt_clf.predict(test_data)\n",
    "\n",
    "r_forest = RandomForestClassifier(n_estimators=10)\n",
    "r_forest.fit(train_data, train_label)\n",
    "r_forest_pred = r_forest.predict(test_data)\n",
    "\n",
    "majority_class = adult.occupation.value_counts().index[0]\n",
    "pred_df =  pd.DataFrame({'RanFor': r_forest_pred, 'DecTree' : dt_clf_pred, 'LogReg' : log_reg_pred})\n",
    "overall_pred = pred_df.apply(lambda x: x.value_counts().index[0] if x.value_counts()[0] > 1 else majority_class, axis = 1)\n",
    "adult.loc[(adult.occupation.values == '?'),'occupation'] = overall_pred.values\n",
    "\n",
    "print(adult.occupation.value_counts());\n",
    "print(adult.occupation.unique());"
   ]
  },
  {
   "cell_type": "markdown",
   "metadata": {},
   "source": [
    "#### 2.4 Predicting missing 'native-country' values"
   ]
  },
  {
   "cell_type": "code",
   "execution_count": 8,
   "metadata": {
    "pycharm": {
     "is_executing": false,
     "name": "#%%\n"
    }
   },
   "outputs": [
    {
     "name": "stderr",
     "output_type": "stream",
     "text": [
      "/opt/anaconda3/lib/python3.7/site-packages/sklearn/linear_model/logistic.py:469: FutureWarning: Default multi_class will be changed to 'auto' in 0.22. Specify the multi_class option to silence this warning.\n",
      "  \"this warning.\", FutureWarning)\n",
      "/opt/anaconda3/lib/python3.7/site-packages/sklearn/linear_model/sag.py:337: ConvergenceWarning: The max_iter was reached which means the coef_ did not converge\n",
      "  \"the coef_ did not converge\", ConvergenceWarning)\n"
     ]
    },
    {
     "name": "stdout",
     "output_type": "stream",
     "text": [
      "United-States                 44640\n",
      "Mexico                          961\n",
      "Philippines                     305\n",
      "Germany                         207\n",
      "Puerto-Rico                     185\n",
      "Canada                          182\n",
      "El-Salvador                     155\n",
      "India                           155\n",
      "Cuba                            138\n",
      "England                         127\n",
      "China                           125\n",
      "South                           121\n",
      "Jamaica                         107\n",
      "Italy                           105\n",
      "Dominican-Republic              103\n",
      "Japan                            95\n",
      "Guatemala                        88\n",
      "Vietnam                          88\n",
      "Poland                           87\n",
      "Columbia                         85\n",
      "Haiti                            75\n",
      "Portugal                         68\n",
      "Taiwan                           67\n",
      "Iran                             59\n",
      "Greece                           49\n",
      "Nicaragua                        49\n",
      "Ecuador                          46\n",
      "Peru                             46\n",
      "France                           38\n",
      "Ireland                          37\n",
      "Hong                             34\n",
      "Thailand                         30\n",
      "Cambodia                         28\n",
      "Trinadad&Tobago                  27\n",
      "Yugoslavia                       23\n",
      "Laos                             23\n",
      "Outlying-US(Guam-USVI-etc)       23\n",
      "Scotland                         21\n",
      "Honduras                         20\n",
      "Hungary                          19\n",
      "Holand-Netherlands                1\n",
      "?                                 0\n",
      "Name: native-country, dtype: int64\n",
      "[United-States, Peru, Guatemala, Mexico, Dominican-Republic, ..., Greece, Trinadad&Tobago, Outlying-US(Guam-USVI-etc), France, Holand-Netherlands]\n",
      "Length: 41\n",
      "Categories (41, object): [United-States, Peru, Guatemala, Mexico, ..., Trinadad&Tobago, Outlying-US(Guam-USVI-etc), France, Holand-Netherlands]\n"
     ]
    }
   ],
   "source": [
    "test_data = adult[(adult['native-country'].values == '?')].copy()\n",
    "test_label = test_data['native-country']\n",
    "\n",
    "train_data = adult[(adult['native-country'].values != '?')].copy()\n",
    "train_label = train_data['native-country']\n",
    "\n",
    "test_data.drop(columns = ['native-country'], inplace = True)\n",
    "train_data.drop(columns = ['native-country'], inplace = True)\n",
    "\n",
    "train_data = one_hot_enc_cat_cols(train_data, train_data.select_dtypes('category').columns)\n",
    "test_data = one_hot_enc_cat_cols(test_data, test_data.select_dtypes('category').columns)\n",
    "\n",
    "log_reg = LogisticRegression(max_iter=100, solver='saga')\n",
    "log_reg.fit(train_data, train_label)\n",
    "log_reg_pred = log_reg.predict(test_data)\n",
    "\n",
    "dt_clf = tree.DecisionTreeClassifier()\n",
    "dt_clf = dt_clf.fit(train_data, train_label)\n",
    "dt_clf_pred = dt_clf.predict(test_data)\n",
    "\n",
    "r_forest = RandomForestClassifier(n_estimators=10)\n",
    "r_forest.fit(train_data, train_label)\n",
    "r_forest_pred = r_forest.predict(test_data)\n",
    "\n",
    "majority_class = adult['native-country'].value_counts().index[0]\n",
    "pred_df =  pd.DataFrame({'RanFor': r_forest_pred, 'DecTree' : dt_clf_pred, 'LogReg' : log_reg_pred})\n",
    "overall_pred = pred_df.apply(lambda x: x.value_counts().index[0] if x.value_counts()[0] > 1 else majority_class, axis = 1)\n",
    "adult.loc[(adult['native-country'].values == '?'),'native-country'] = overall_pred.values\n",
    "\n",
    "print(adult['native-country'].value_counts());\n",
    "print(adult['native-country'].unique());"
   ]
  },
  {
   "cell_type": "markdown",
   "metadata": {},
   "source": [
    "#### 2.5 Finding correlation between columns"
   ]
  },
  {
   "cell_type": "code",
   "execution_count": 9,
   "metadata": {
    "pycharm": {
     "is_executing": false,
     "name": "#%%\n"
    }
   },
   "outputs": [
    {
     "data": {
      "text/html": [
       "<div>\n",
       "<style scoped>\n",
       "    .dataframe tbody tr th:only-of-type {\n",
       "        vertical-align: middle;\n",
       "    }\n",
       "\n",
       "    .dataframe tbody tr th {\n",
       "        vertical-align: top;\n",
       "    }\n",
       "\n",
       "    .dataframe thead th {\n",
       "        text-align: right;\n",
       "    }\n",
       "</style>\n",
       "<table border=\"1\" class=\"dataframe\">\n",
       "  <thead>\n",
       "    <tr style=\"text-align: right;\">\n",
       "      <th></th>\n",
       "      <th>age</th>\n",
       "      <th>fnlwgt</th>\n",
       "      <th>education-num</th>\n",
       "      <th>capital-gain</th>\n",
       "      <th>capital-loss</th>\n",
       "      <th>hours-per-week</th>\n",
       "    </tr>\n",
       "  </thead>\n",
       "  <tbody>\n",
       "    <tr>\n",
       "      <td>age</td>\n",
       "      <td>1.000000</td>\n",
       "      <td>-0.076628</td>\n",
       "      <td>0.030940</td>\n",
       "      <td>0.077229</td>\n",
       "      <td>0.056944</td>\n",
       "      <td>0.071558</td>\n",
       "    </tr>\n",
       "    <tr>\n",
       "      <td>fnlwgt</td>\n",
       "      <td>-0.076628</td>\n",
       "      <td>1.000000</td>\n",
       "      <td>-0.038761</td>\n",
       "      <td>-0.003706</td>\n",
       "      <td>-0.004366</td>\n",
       "      <td>-0.013519</td>\n",
       "    </tr>\n",
       "    <tr>\n",
       "      <td>education-num</td>\n",
       "      <td>0.030940</td>\n",
       "      <td>-0.038761</td>\n",
       "      <td>1.000000</td>\n",
       "      <td>0.125146</td>\n",
       "      <td>0.080972</td>\n",
       "      <td>0.143689</td>\n",
       "    </tr>\n",
       "    <tr>\n",
       "      <td>capital-gain</td>\n",
       "      <td>0.077229</td>\n",
       "      <td>-0.003706</td>\n",
       "      <td>0.125146</td>\n",
       "      <td>1.000000</td>\n",
       "      <td>-0.031441</td>\n",
       "      <td>0.082157</td>\n",
       "    </tr>\n",
       "    <tr>\n",
       "      <td>capital-loss</td>\n",
       "      <td>0.056944</td>\n",
       "      <td>-0.004366</td>\n",
       "      <td>0.080972</td>\n",
       "      <td>-0.031441</td>\n",
       "      <td>1.000000</td>\n",
       "      <td>0.054467</td>\n",
       "    </tr>\n",
       "    <tr>\n",
       "      <td>hours-per-week</td>\n",
       "      <td>0.071558</td>\n",
       "      <td>-0.013519</td>\n",
       "      <td>0.143689</td>\n",
       "      <td>0.082157</td>\n",
       "      <td>0.054467</td>\n",
       "      <td>1.000000</td>\n",
       "    </tr>\n",
       "  </tbody>\n",
       "</table>\n",
       "</div>"
      ],
      "text/plain": [
       "                     age    fnlwgt  education-num  capital-gain  capital-loss  \\\n",
       "age             1.000000 -0.076628       0.030940      0.077229      0.056944   \n",
       "fnlwgt         -0.076628  1.000000      -0.038761     -0.003706     -0.004366   \n",
       "education-num   0.030940 -0.038761       1.000000      0.125146      0.080972   \n",
       "capital-gain    0.077229 -0.003706       0.125146      1.000000     -0.031441   \n",
       "capital-loss    0.056944 -0.004366       0.080972     -0.031441      1.000000   \n",
       "hours-per-week  0.071558 -0.013519       0.143689      0.082157      0.054467   \n",
       "\n",
       "                hours-per-week  \n",
       "age                   0.071558  \n",
       "fnlwgt               -0.013519  \n",
       "education-num         0.143689  \n",
       "capital-gain          0.082157  \n",
       "capital-loss          0.054467  \n",
       "hours-per-week        1.000000  "
      ]
     },
     "metadata": {},
     "output_type": "display_data"
    }
   ],
   "source": [
    "# from the output above we can confirm that we no longer have missing values\n",
    "# so remove them as a category\n",
    "adult['workclass'] = adult['workclass'].cat.remove_categories('?')\n",
    "adult['occupation'] = adult['occupation'].cat.remove_categories('?')\n",
    "adult['native-country'] = adult['native-country'].cat.remove_categories('?')\n",
    "\n",
    "display(adult.corr())"
   ]
  },
  {
   "cell_type": "markdown",
   "metadata": {},
   "source": [
    "From the table above we can see that none of the columns are highly correlated\n",
    "\n",
    "### 3.0 Additional Data Analysis\n",
    "\n",
    "#### 3.1 Income distribution as a function of education level"
   ]
  },
  {
   "cell_type": "code",
   "execution_count": 10,
   "metadata": {
    "pycharm": {
     "is_executing": false,
     "name": "#%%\n"
    }
   },
   "outputs": [
    {
     "data": {
      "image/png": "[encoded data removed]",
      "text/plain": [
       "<Figure size 720x576 with 1 Axes>"
      ]
     },
     "metadata": {
      "needs_background": "light"
     },
     "output_type": "display_data"
    }
   ],
   "source": [
    "edu_level = {}\n",
    "for x,y in adult[['education-num','education']].drop_duplicates().itertuples(index=False):\n",
    "    edu_level[y] = x\n",
    "\n",
    "education = round(pd.crosstab(adult.education, adult.income).div(pd.crosstab(adult.education, adult.income).apply(sum, axis=1), 0), 2)\n",
    "education = education.reindex(sorted(edu_level, key=edu_level.get, reverse=False))\n",
    "\n",
    "ax = education.plot(kind='bar', title='Income distribution for every education level', figsize=(10,8))\n",
    "ax.set_xlabel('Education level')\n",
    "ax.set_ylabel('Income distribution');"
   ]
  },
  {
   "cell_type": "markdown",
   "metadata": {},
   "source": [
    "From the graph it can be seen that a higher proportion of people with higher education earn more than 50K.\n",
    "\n",
    "#### 3.2 Income distribution as a function of gender"
   ]
  },
  {
   "cell_type": "code",
   "execution_count": 11,
   "metadata": {
    "pycharm": {
     "is_executing": false,
     "name": "#%%\n"
    }
   },
   "outputs": [
    {
     "data": {
      "image/png": "[encoded data removed]",
      "text/plain": [
       "<Figure size 720x576 with 1 Axes>"
      ]
     },
     "metadata": {
      "needs_background": "light"
     },
     "output_type": "display_data"
    }
   ],
   "source": [
    "gender_workclass = round(pd.crosstab(adult.workclass, [adult.income, adult.sex]).div(pd.crosstab(adult.workclass, [adult.income, adult.sex]).apply(sum, axis=1), 0), 2)\n",
    "gender_workclass[[('>50K','Male'), ('>50K','Female')]].plot(kind='bar', title='Income distribution across gender for every workclass (Income > 50K)', figsize=(10,8), rot=30)\n",
    "ax.set_xlabel('Workclass')\n",
    "ax.set_ylabel('Income distribution across gender (Income > 50K)');"
   ]
  },
  {
   "cell_type": "markdown",
   "metadata": {},
   "source": [
    "From the graph it can be seen that there is a disparity in income across every work-class.\n",
    "\n",
    "#### 3.3 Income distribution as a function of occupation"
   ]
  },
  {
   "cell_type": "code",
   "execution_count": 12,
   "metadata": {
    "pycharm": {
     "is_executing": false,
     "name": "#%%\n"
    }
   },
   "outputs": [
    {
     "data": {
      "image/png": "[encoded data removed]",
      "text/plain": [
       "<Figure size 720x576 with 1 Axes>"
      ]
     },
     "metadata": {
      "needs_background": "light"
     },
     "output_type": "display_data"
    }
   ],
   "source": [
    "occupation = round(pd.crosstab(adult.occupation, adult.income).div(pd.crosstab(adult.occupation, adult.income).apply(sum, axis=1), 0), 2)\n",
    "occupation.sort_values(by='>50K', inplace = True)\n",
    "ax = occupation.plot(kind='bar', title='Income distribution for every occupation', figsize=(10,8))\n",
    "ax.set_xlabel('Occupation')\n",
    "ax.set_ylabel('Income distribution');"
   ]
  },
  {
   "cell_type": "markdown",
   "metadata": {},
   "source": [
    "From the graph it can be seen that managerial and professional roles have a higher proportion of people who earn more than 50K.\n",
    "\n",
    "#### 3.4 Income distribution as a function of workclass"
   ]
  },
  {
   "cell_type": "code",
   "execution_count": 13,
   "metadata": {
    "pycharm": {
     "is_executing": false,
     "name": "#%%\n"
    }
   },
   "outputs": [
    {
     "data": {
      "image/png": "[encoded data removed]",
      "text/plain": [
       "<Figure size 720x576 with 1 Axes>"
      ]
     },
     "metadata": {
      "needs_background": "light"
     },
     "output_type": "display_data"
    }
   ],
   "source": [
    "workclass = round(pd.crosstab(adult.workclass, adult.income).div(pd.crosstab(adult.workclass, adult.income).apply(sum, axis=1), 0), 2)\n",
    "workclass.sort_values(by='>50K', inplace=True)\n",
    "ax = workclass.plot(kind ='bar', title = 'Income distribution for every workclass', figsize=(10,8))\n",
    "ax.set_xlabel('Workclass')\n",
    "ax.set_ylabel('Income distribution');"
   ]
  },
  {
   "cell_type": "markdown",
   "metadata": {},
   "source": [
    "From the graph it can be seen that more self-employed people earn more than 50K.\n",
    "\n",
    "#### 3.5 Income distribution as a function of race"
   ]
  },
  {
   "cell_type": "code",
   "execution_count": 14,
   "metadata": {
    "pycharm": {
     "is_executing": false,
     "name": "#%%\n"
    }
   },
   "outputs": [
    {
     "data": {
      "image/png": "[encoded data removed]",
      "text/plain": [
       "<Figure size 720x576 with 1 Axes>"
      ]
     },
     "metadata": {
      "needs_background": "light"
     },
     "output_type": "display_data"
    }
   ],
   "source": [
    "race = round(pd.crosstab(adult.race, adult.income).div(pd.crosstab(adult.race, adult.income).apply(sum, axis=1), 0), 2)\n",
    "race.sort_values(by='>50K', inplace=True)\n",
    "ax = race.plot(kind='bar', title='Income distribution for every race', figsize=(10,8))\n",
    "ax.set_xlabel('Race')\n",
    "ax.set_ylabel('Income distribution');"
   ]
  },
  {
   "cell_type": "markdown",
   "metadata": {},
   "source": [
    "From the graph it can be seen that there is no significant variation in income among races.\n",
    "\n",
    "#### 3.6 Income distribution as a function of work-hours"
   ]
  },
  {
   "cell_type": "code",
   "execution_count": 15,
   "metadata": {
    "pycharm": {
     "is_executing": false,
     "name": "#%%\n"
    }
   },
   "outputs": [
    {
     "data": {
      "image/png": "[encoded data removed]",
      "text/plain": [
       "<Figure size 720x432 with 1 Axes>"
      ]
     },
     "metadata": {
      "needs_background": "light"
     },
     "output_type": "display_data"
    }
   ],
   "source": [
    "adult['hour_worked_bins'] = ['<40' if i < 40 else '40-60' if i <= 60 else '>60'  for i in adult['hours-per-week']]\n",
    "adult['hour_worked_bins'] = adult['hour_worked_bins'].astype('category')\n",
    "hours_per_week = round(pd.crosstab(adult.hour_worked_bins, adult.income).div(pd.crosstab(adult.hour_worked_bins, adult.income).apply(sum, axis=1), 0), 2)\n",
    "\n",
    "hours_per_week.sort_values(by='>50K', inplace=True)\n",
    "ax = hours_per_week.plot(kind='bar', title = 'Income distribution for every hours-per-week', figsize = (10,6))\n",
    "ax.set_xlabel('Hours per week')\n",
    "ax.set_ylabel('Income distribution');"
   ]
  },
  {
   "cell_type": "markdown",
   "metadata": {},
   "source": [
    "From the graph it can be seen that more people who work more than 60 hours per week earn more than 50K.\n",
    "\n",
    "#### 3.7 Income distribution as a function of native country"
   ]
  },
  {
   "cell_type": "code",
   "execution_count": 16,
   "metadata": {
    "pycharm": {
     "is_executing": false,
     "name": "#%%\n"
    }
   },
   "outputs": [
    {
     "data": {
      "image/png": "[encoded data removed]",
      "text/plain": [
       "<Figure size 1440x864 with 1 Axes>"
      ]
     },
     "metadata": {
      "needs_background": "light"
     },
     "output_type": "display_data"
    }
   ],
   "source": [
    "native_country = round(pd.crosstab(adult['native-country'], adult.income).div(pd.crosstab(adult['native-country'], adult.income).apply(sum, axis=1), 0), 2)\n",
    "native_country.sort_values(by='>50K', inplace=True)\n",
    "ax = native_country.plot(kind='bar', title='Income distribution for every country', figsize=(20,12))\n",
    "ax.set_xlabel('Native country')\n",
    "ax.set_ylabel('Income distribution');"
   ]
  },
  {
   "cell_type": "markdown",
   "metadata": {},
   "source": [
    "From the graph it can be seen that a larger proportion of people from some countries earn more than 50K than people from other countries."
   ]
  },
  {
   "cell_type": "markdown",
   "metadata": {},
   "source": [
    "### 4.0 Data Transformation\n",
    "\n",
    "#### 4.1 Feature selection\n",
    "\n",
    "- The features 'education' and 'education-num' convey the same meaning. We consider only 'education-num'.<br/>\n",
    "- We dropped the 'hours-per-week' feature and used hour_worked_bins (a categorical feature) in its place.\n",
    "- We dropped the 'fnlwgt' feature as it does not seem to be related to the people being studied.\n",
    "\n",
    "#### 4.2 Data preparation\n",
    "\n",
    "We use one hot encoding for all the categorical columns.\n",
    "Consider the 'hour_worked_bins' column.\n",
    "It can have values like '<40', '40-60', and '>60'.\n",
    "So we create columns 'hour_worked_bins_<40', 'hour_worked_bins_40-60', and 'hour_worked_bins_>60'\n",
    "If any row of the column 'hour_worked_bins' had a value '<40',\n",
    "then the column 'hour_worked_bins_<40' would be set to 1.0 or 0.0 otherwise."
   ]
  },
  {
   "cell_type": "code",
   "execution_count": 17,
   "metadata": {
    "pycharm": {
     "is_executing": false,
     "name": "#%%\n"
    }
   },
   "outputs": [],
   "source": [
    "adult_data = adult.drop(columns=['income'])\n",
    "adult_label = adult.income\n",
    "\n",
    "# one-hot-encode all categorical data\n",
    "adult_cat_one_hot = pd.get_dummies(adult_data.select_dtypes('category'))\n",
    "# all non-categorical data\n",
    "adult_non_cat = adult_data.select_dtypes(exclude = 'category')\n",
    "# all data\n",
    "adult_data_one_hot = pd.concat([adult_non_cat, adult_cat_one_hot], axis=1, join='inner')\n",
    "\n",
    "# split data into training and testing (75%, 25%) split\n",
    "train_data, test_data, train_label, test_label = train_test_split(adult_data_one_hot, adult_label, test_size=0.25)"
   ]
  },
  {
   "cell_type": "markdown",
   "metadata": {
    "pycharm": {
     "name": "#%% md\n"
    }
   },
   "source": [
    "#### 4.3 Data normalization\n",
    "\n",
    "We normalize the data by subtracting the mean from the data and scaling it to unit variance."
   ]
  },
  {
   "cell_type": "code",
   "execution_count": 18,
   "metadata": {
    "pycharm": {
     "is_executing": false,
     "name": "#%%\n"
    }
   },
   "outputs": [],
   "source": [
    "scaler = StandardScaler()\n",
    "# compute the mean and standard deviation of the training data\n",
    "scaler.fit(train_data)\n",
    "\n",
    "# scale the training data\n",
    "train_data = scaler.transform(train_data)\n",
    "# apply the same scaling to the test data\n",
    "test_data = scaler.transform(test_data)"
   ]
  },
  {
   "cell_type": "markdown",
   "metadata": {
    "pycharm": {
     "name": "#%% md\n"
    }
   },
   "source": [
    "### 5.0 Model Design"
   ]
  },
  {
   "cell_type": "code",
   "execution_count": 24,
   "metadata": {
    "pycharm": {
     "is_executing": false,
     "name": "#%%\n"
    }
   },
   "outputs": [],
   "source": [
    "# function to evaluate models based on actual and predicted outputs\n",
    "def evaluate_model(actual, predicted):    \n",
    "    confusion = pd.crosstab(actual, predicted, rownames=['Actual'], colnames=['Predicted'])\n",
    "    true_positive = confusion.loc['>50K','>50K']\n",
    "    true_negative = confusion.loc['<=50K','<=50K']\n",
    "    false_positive = confusion.loc['<=50K','>50K']\n",
    "    false_negative = confusion.loc['>50K','<=50K']\n",
    "\n",
    "    accuracy = (true_positive + true_negative)/(true_positive + true_negative + false_positive + false_negative)\n",
    "    precision = true_positive/(true_positive + false_positive)\n",
    "    recall = true_positive/(true_positive + false_negative)\n",
    "    f_measure = (2 * recall * precision)/(recall + precision)\n",
    "    sensitivity = true_positive/(true_positive + false_negative)\n",
    "    specificity = true_negative/(true_negative + false_positive)\n",
    "    error_rate = 1 - accuracy\n",
    "    \n",
    "    out = {'Error Rate':error_rate, 'Precision':precision, 'F-Measure':f_measure, 'Sensitivity':sensitivity, 'Specificity':specificity}    \n",
    "    \n",
    "    return out"
   ]
  },
  {
   "cell_type": "code",
   "execution_count": 49,
   "metadata": {},
   "outputs": [
    {
     "data": {
      "text/plain": [
       "PCA(copy=True, iterated_power='auto', n_components=None, random_state=None,\n",
       "    svd_solver='auto', tol=0.0, whiten=False)"
      ]
     },
     "execution_count": 49,
     "metadata": {},
     "output_type": "execute_result"
    }
   ],
   "source": [
    "from sklearn.decomposition import PCA\n",
    "pca = PCA()\n",
    "pca.fit(train_data)"
   ]
  },
  {
   "cell_type": "code",
   "execution_count": 50,
   "metadata": {},
   "outputs": [
    {
     "data": {
      "text/plain": [
       "array([0.04487599, 0.072677  , 0.09702508, 0.11945668, 0.14051839,\n",
       "       0.15836492, 0.17538913, 0.19048482, 0.20488117, 0.21867771,\n",
       "       0.2315413 , 0.24388459, 0.25561269, 0.26728226, 0.27876404,\n",
       "       0.29002829, 0.30124727, 0.31221326, 0.32306949, 0.333746  ,\n",
       "       0.34430127, 0.35481776, 0.36513969, 0.37534663, 0.38546528,\n",
       "       0.39551414, 0.40554151, 0.41549387, 0.42537794, 0.43524975,\n",
       "       0.44505408, 0.45483545, 0.46458389, 0.47430342, 0.48400181,\n",
       "       0.49362882, 0.50323199, 0.51279827, 0.52231853, 0.53176662,\n",
       "       0.54118642, 0.55055096, 0.55990735, 0.56924056, 0.57854753,\n",
       "       0.58784321, 0.59713568, 0.60641692, 0.61569438, 0.62496907,\n",
       "       0.63423978, 0.64350607, 0.65276713, 0.66202584, 0.67127691,\n",
       "       0.68051923, 0.68975034, 0.69896518, 0.70816993, 0.71735147,\n",
       "       0.72652431, 0.73567147, 0.74479814, 0.75391442, 0.76298887,\n",
       "       0.77205879, 0.7811007 , 0.79013339, 0.79913072, 0.80808865,\n",
       "       0.81702997, 0.82595684, 0.83480209, 0.8436108 , 0.8523661 ,\n",
       "       0.86107859, 0.8696746 , 0.87822152, 0.88674769, 0.89514776,\n",
       "       0.90345593, 0.91165657, 0.91959905, 0.92746356, 0.93521322,\n",
       "       0.94282058, 0.95023425, 0.95734493, 0.96408582, 0.9701972 ,\n",
       "       0.97611774, 0.98180958, 0.98693707, 0.9915572 , 0.9954708 ,\n",
       "       0.99801315, 0.99980338, 1.        , 1.        , 1.        ,\n",
       "       1.        , 1.        , 1.        , 1.        , 1.        ,\n",
       "       1.        , 1.        , 1.        ])"
      ]
     },
     "execution_count": 50,
     "metadata": {},
     "output_type": "execute_result"
    }
   ],
   "source": [
    "np.cumsum(pca.explained_variance_ratio_)\n",
    "\n"
   ]
  },
  {
   "cell_type": "code",
   "execution_count": 51,
   "metadata": {},
   "outputs": [
    {
     "data": {
      "text/plain": [
       "80"
      ]
     },
     "execution_count": 51,
     "metadata": {},
     "output_type": "execute_result"
    }
   ],
   "source": [
    "np.argmax(np.cumsum(pca.explained_variance_ratio_) > 0.9)\n",
    "\n"
   ]
  },
  {
   "cell_type": "code",
   "execution_count": 52,
   "metadata": {},
   "outputs": [],
   "source": [
    "pca2 = PCA(n_components=81)\n",
    "X_train_pca = pca2.fit_transform(train_data)\n",
    "X_test_pca = pca2.transform(test_data)"
   ]
  },
  {
   "cell_type": "markdown",
   "metadata": {},
   "source": [
    "#### 5.1 Decision Tree\n",
    "\n",
    "- We used both Gini Index and Entropy to decide the splits of the decision tree.\n",
    "- Minimum samples to split an internal node = 5%\n",
    "- Minimum samples required at leaf node = 0.1%"
   ]
  },
  {
   "cell_type": "code",
   "execution_count": 71,
   "metadata": {},
   "outputs": [],
   "source": [
    "# new\n",
    "ms = []\n",
    "errTr = []\n",
    "errTe = []\n",
    "DTree_Gini_best = dict\n",
    "Min_err = 1\n",
    "for i in range (2,100):\n",
    "    clf_gini = tree.DecisionTreeClassifier(criterion='gini',  min_samples_split=32,  min_samples_leaf= i)\n",
    "    clf_gini = clf_gini.fit(train_data, train_label)\n",
    "    clf_gini_pred = clf_gini.predict(test_data)\n",
    "    DTree_Gini = evaluate_model(test_label, clf_gini_pred)\n",
    "    if(DTree_Gini_best is None ):\n",
    "            DTree_Gini_best = DTree_Gini\n",
    "            Min_err = round(DTree_Gini['Error Rate'],4)\n",
    "    elif(Min_err > round(DTree_Gini['Error Rate'],4) ):\n",
    "            DTree_Gini_best = DTree_Gini\n",
    "            Min_err = round(DTree_Gini['Error Rate'],4)\n",
    "        \n",
    "    errTe.append(round(DTree_Gini['Error Rate'],4))\n",
    "    ms.append(i)"
   ]
  },
  {
   "cell_type": "code",
   "execution_count": 72,
   "metadata": {
    "scrolled": true
   },
   "outputs": [
    {
     "data": {
      "image/png": "[encoded data removed]",
      "text/plain": [
       "<Figure size 432x288 with 1 Axes>"
      ]
     },
     "metadata": {
      "needs_background": "light"
     },
     "output_type": "display_data"
    }
   ],
   "source": [
    "plt.plot(ms,errTe, label='Test')\n",
    "plt.xlabel(\"min_samples_leaf\")\n",
    "plt.ylabel(\"Error\")\n",
    "plt.legend(loc='lower right')\n",
    "plt.show()"
   ]
  },
  {
   "cell_type": "code",
   "execution_count": 73,
   "metadata": {
    "scrolled": true
   },
   "outputs": [
    {
     "name": "stdout",
     "output_type": "stream",
     "text": [
      "0.1382\n",
      "79\n"
     ]
    }
   ],
   "source": [
    "bestMin_leaf_gini = np.argmin(errTe) + 2\n",
    "print(np.min(errTe))\n",
    "print(bestMin_leaf_gini)"
   ]
  },
  {
   "cell_type": "code",
   "execution_count": 75,
   "metadata": {},
   "outputs": [],
   "source": [
    "clf_gini = tree.DecisionTreeClassifier(criterion='gini',  min_samples_split=32,  min_samples_leaf= 79)\n",
    "clf_gini = clf_gini.fit(train_data, train_label)\n",
    "clf_gini_pred = clf_gini.predict(test_data)\n",
    "   "
   ]
  },
  {
   "cell_type": "code",
   "execution_count": 81,
   "metadata": {},
   "outputs": [],
   "source": [
    "# Entropy\n",
    "ms = []\n",
    "errTe = []\n",
    "errTr = []\n",
    "DTree_Entr_best = dict\n",
    "Min_err = 1\n",
    "clf_entropy_best = DecisionTreeClassifier\n",
    "for i in range (2,200):\n",
    "    clf_entropy = tree.DecisionTreeClassifier(criterion='entropy', min_samples_split=32, min_samples_leaf=i)\n",
    "    clf_entropy = clf_entropy.fit(train_data, train_label)\n",
    "    clf_entropy_pred = clf_entropy.predict(test_data)\n",
    "    DTree_Entropy = evaluate_model(test_label, clf_entropy_pred)\n",
    "    \n",
    "    if(DTree_Entr_best is None ):\n",
    "            DTree_Entropy_best = DTree_Entropy\n",
    "            Min_err = round(DTree_Entropy['Error Rate'],4)\n",
    "    elif(Min_err > round(DTree_Entropy['Error Rate'],4) ):\n",
    "            DTree_Entropy_best = DTree_Entropy\n",
    "            Min_err = round(DTree_Entropy['Error Rate'],4)\n",
    "            \n",
    "    clf_entropy_pred = clf_entropy.predict(train_data)\n",
    "    DTree_EntropyTr = evaluate_model(train_label, clf_entropy_pred)     \n",
    "    errTe.append(round(DTree_EntropyTr['Error Rate'],4))\n",
    "    ms.append(i)\n",
    "\n"
   ]
  },
  {
   "cell_type": "code",
   "execution_count": 82,
   "metadata": {
    "scrolled": true
   },
   "outputs": [
    {
     "data": {
      "image/png": "[encoded data removed]",
      "text/plain": [
       "<Figure size 432x288 with 1 Axes>"
      ]
     },
     "metadata": {
      "needs_background": "light"
     },
     "output_type": "display_data"
    }
   ],
   "source": [
    "plt.plot(ms,errTe, label='Test')\n",
    "plt.xlabel(\"min_samples_leaf\")\n",
    "plt.ylabel(\"Error\")\n",
    "plt.legend(loc='lower right')\n",
    "plt.show()"
   ]
  },
  {
   "cell_type": "code",
   "execution_count": 83,
   "metadata": {},
   "outputs": [],
   "source": [
    "clf_entropy = tree.DecisionTreeClassifier(criterion='entropy', min_samples_split=32, min_samples_leaf=np.argmin(errTe) + 2)\n",
    "clf_entropy = clf_entropy.fit(train_data, train_label)\n",
    "clf_entropy_pred = clf_entropy.predict(test_data)\n",
    "   "
   ]
  },
  {
   "cell_type": "code",
   "execution_count": 85,
   "metadata": {},
   "outputs": [
    {
     "data": {
      "text/plain": [
       "0.0944"
      ]
     },
     "execution_count": 85,
     "metadata": {},
     "output_type": "execute_result"
    }
   ],
   "source": [
    "min(errTe)"
   ]
  },
  {
   "cell_type": "code",
   "execution_count": 86,
   "metadata": {
    "scrolled": false
   },
   "outputs": [
    {
     "data": {
      "text/html": [
       "<div>\n",
       "<style scoped>\n",
       "    .dataframe tbody tr th:only-of-type {\n",
       "        vertical-align: middle;\n",
       "    }\n",
       "\n",
       "    .dataframe tbody tr th {\n",
       "        vertical-align: top;\n",
       "    }\n",
       "\n",
       "    .dataframe thead th {\n",
       "        text-align: right;\n",
       "    }\n",
       "</style>\n",
       "<table border=\"1\" class=\"dataframe\">\n",
       "  <thead>\n",
       "    <tr style=\"text-align: right;\">\n",
       "      <th></th>\n",
       "      <th>Error Rate</th>\n",
       "      <th>Precision</th>\n",
       "      <th>F-Measure</th>\n",
       "      <th>Sensitivity</th>\n",
       "      <th>Specificity</th>\n",
       "    </tr>\n",
       "  </thead>\n",
       "  <tbody>\n",
       "    <tr>\n",
       "      <td>Decision Tree - Entropy</td>\n",
       "      <td>0.1390</td>\n",
       "      <td>0.7406</td>\n",
       "      <td>0.6808</td>\n",
       "      <td>0.630</td>\n",
       "      <td>0.9321</td>\n",
       "    </tr>\n",
       "    <tr>\n",
       "      <td>Decision Tree - Gini Index</td>\n",
       "      <td>0.1382</td>\n",
       "      <td>0.7474</td>\n",
       "      <td>0.6796</td>\n",
       "      <td>0.623</td>\n",
       "      <td>0.9352</td>\n",
       "    </tr>\n",
       "  </tbody>\n",
       "</table>\n",
       "</div>"
      ],
      "text/plain": [
       "                            Error Rate  Precision  F-Measure  Sensitivity  \\\n",
       "Decision Tree - Entropy         0.1390     0.7406     0.6808        0.630   \n",
       "Decision Tree - Gini Index      0.1382     0.7474     0.6796        0.623   \n",
       "\n",
       "                            Specificity  \n",
       "Decision Tree - Entropy          0.9321  \n",
       "Decision Tree - Gini Index       0.9352  "
      ]
     },
     "metadata": {},
     "output_type": "display_data"
    }
   ],
   "source": [
    "overall_dtree = round(pd.DataFrame([DTree_Entropy_best, DTree_Gini_best], index=['Decision Tree - Entropy', 'Decision Tree - Gini Index']), 4)\n",
    "display(overall_dtree)"
   ]
  },
  {
   "cell_type": "markdown",
   "metadata": {},
   "source": [
    "From the results above it can be seen that using the Gini Index gives slightly better accuracy than Entropy.\n",
    "\n"
   ]
  },
  {
   "cell_type": "markdown",
   "metadata": {},
   "source": [
    "##### Decision tree with PCA"
   ]
  },
  {
   "cell_type": "code",
   "execution_count": 66,
   "metadata": {},
   "outputs": [
    {
     "data": {
      "text/html": [
       "<div>\n",
       "<style scoped>\n",
       "    .dataframe tbody tr th:only-of-type {\n",
       "        vertical-align: middle;\n",
       "    }\n",
       "\n",
       "    .dataframe tbody tr th {\n",
       "        vertical-align: top;\n",
       "    }\n",
       "\n",
       "    .dataframe thead th {\n",
       "        text-align: right;\n",
       "    }\n",
       "</style>\n",
       "<table border=\"1\" class=\"dataframe\">\n",
       "  <thead>\n",
       "    <tr style=\"text-align: right;\">\n",
       "      <th></th>\n",
       "      <th>Error Rate</th>\n",
       "      <th>Precision</th>\n",
       "      <th>F-Measure</th>\n",
       "      <th>Sensitivity</th>\n",
       "      <th>Specificity</th>\n",
       "    </tr>\n",
       "  </thead>\n",
       "  <tbody>\n",
       "    <tr>\n",
       "      <td>Decision Tree - PCA - Entropy</td>\n",
       "      <td>0.1638</td>\n",
       "      <td>0.6905</td>\n",
       "      <td>0.6127</td>\n",
       "      <td>0.5506</td>\n",
       "      <td>0.9241</td>\n",
       "    </tr>\n",
       "  </tbody>\n",
       "</table>\n",
       "</div>"
      ],
      "text/plain": [
       "                               Error Rate  Precision  F-Measure  Sensitivity  \\\n",
       "Decision Tree - PCA - Entropy      0.1638     0.6905     0.6127       0.5506   \n",
       "\n",
       "                               Specificity  \n",
       "Decision Tree - PCA - Entropy       0.9241  "
      ]
     },
     "metadata": {},
     "output_type": "display_data"
    }
   ],
   "source": [
    "clf_entropy2 = tree.DecisionTreeClassifier(criterion='entropy', min_samples_split=bestMinPar, min_samples_leaf=9)\n",
    "clf_entropy2 = clf_entropy2.fit(X_train_pca, train_label)\n",
    "clf_entropy_pred2 = clf_entropy2.predict(X_test_pca)\n",
    "DTree_Entropy2 = evaluate_model(test_label, clf_entropy_pred2)\n",
    "overall_dtree2 = round(pd.DataFrame([DTree_Entropy2], index=['Decision Tree - PCA - Entropy']), 4)\n",
    "display(overall_dtree2)\n",
    "    "
   ]
  },
  {
   "cell_type": "markdown",
   "metadata": {},
   "source": [
    "\n",
    "#### 5.2 Artificial Neural Network\n",
    "\n",
    "- We experimented with various activation functions for an artificial neural network.\n",
    "- We used the 'adam' solver for weight optimization as it is suited better for large data-sets.\n",
    "- We also varied the number of hidden nodes in layers 1 and 2 for different activation functions."
   ]
  },
  {
   "cell_type": "code",
   "execution_count": 90,
   "metadata": {
    "pycharm": {
     "is_executing": false,
     "name": "#%%\n"
    }
   },
   "outputs": [
    {
     "data": {
      "text/html": [
       "<div>\n",
       "<style scoped>\n",
       "    .dataframe tbody tr th:only-of-type {\n",
       "        vertical-align: middle;\n",
       "    }\n",
       "\n",
       "    .dataframe tbody tr th {\n",
       "        vertical-align: top;\n",
       "    }\n",
       "\n",
       "    .dataframe thead th {\n",
       "        text-align: right;\n",
       "    }\n",
       "</style>\n",
       "<table border=\"1\" class=\"dataframe\">\n",
       "  <thead>\n",
       "    <tr style=\"text-align: right;\">\n",
       "      <th></th>\n",
       "      <th>Error Rate</th>\n",
       "      <th>Precision</th>\n",
       "      <th>F-Measure</th>\n",
       "      <th>Sensitivity</th>\n",
       "      <th>Specificity</th>\n",
       "    </tr>\n",
       "  </thead>\n",
       "  <tbody>\n",
       "    <tr>\n",
       "      <td>ANN - Tanh</td>\n",
       "      <td>0.1480</td>\n",
       "      <td>0.7122</td>\n",
       "      <td>0.6644</td>\n",
       "      <td>0.6227</td>\n",
       "      <td>0.9226</td>\n",
       "    </tr>\n",
       "    <tr>\n",
       "      <td>ANN - ReLU</td>\n",
       "      <td>0.1431</td>\n",
       "      <td>0.7335</td>\n",
       "      <td>0.6691</td>\n",
       "      <td>0.6150</td>\n",
       "      <td>0.9312</td>\n",
       "    </tr>\n",
       "    <tr>\n",
       "      <td>ANN - Logistic</td>\n",
       "      <td>0.1461</td>\n",
       "      <td>0.7155</td>\n",
       "      <td>0.6696</td>\n",
       "      <td>0.6293</td>\n",
       "      <td>0.9230</td>\n",
       "    </tr>\n",
       "    <tr>\n",
       "      <td>ANN - Identity</td>\n",
       "      <td>0.1452</td>\n",
       "      <td>0.7245</td>\n",
       "      <td>0.6669</td>\n",
       "      <td>0.6178</td>\n",
       "      <td>0.9277</td>\n",
       "    </tr>\n",
       "  </tbody>\n",
       "</table>\n",
       "</div>"
      ],
      "text/plain": [
       "                Error Rate  Precision  F-Measure  Sensitivity  Specificity\n",
       "ANN - Tanh          0.1480     0.7122     0.6644       0.6227       0.9226\n",
       "ANN - ReLU          0.1431     0.7335     0.6691       0.6150       0.9312\n",
       "ANN - Logistic      0.1461     0.7155     0.6696       0.6293       0.9230\n",
       "ANN - Identity      0.1452     0.7245     0.6669       0.6178       0.9277"
      ]
     },
     "metadata": {},
     "output_type": "display_data"
    }
   ],
   "source": [
    "# Hyperbolic Tangent (Tanh) activation function\n",
    "# 'warm_start' is set to true in order to reuse the solution of the previous call to 'fit' as initialization\n",
    "ann_tanh = MLPClassifier(activation='tanh', solver='adam', alpha=1e-1, hidden_layer_sizes=(10, 2), warm_start=True)\n",
    "ann_tanh.fit(train_data, train_label)                         \n",
    "ann_tanh_pred = ann_tanh.predict(test_data)\n",
    "ANN_TanH = evaluate_model(test_label, ann_tanh_pred)\n",
    "\n",
    "# Rectified Linear Unit (ReLU) activation function\n",
    "# 'adam' is a stochastic gradient based optimizer\n",
    "# 'warm_start' is set to true in order to reuse the solution of the previous call to 'fit' as initialization\n",
    "ann_relu = MLPClassifier(activation='relu', solver='adam', alpha=1e-1, hidden_layer_sizes=(5, 2), learning_rate='invscaling', warm_start=True)\n",
    "ann_relu.fit(train_data, train_label)                         \n",
    "ann_relu_pred = ann_relu.predict(test_data)\n",
    "ANN_relu = evaluate_model(test_label, ann_relu_pred)\n",
    "\n",
    "# Logistic Sigmoid activation function\n",
    "# 'adam' is a stochastic gradient based optimizer\n",
    "# 'warm_start' is set to true in order to reuse the solution of the previous call to 'fit' as initialization\n",
    "ann_log = MLPClassifier(activation='logistic', solver='adam', alpha=1e-4, hidden_layer_sizes=(5, 2), learning_rate='invscaling', warm_start=True)\n",
    "ann_log.fit(train_data, train_label)                         \n",
    "ann_log_pred = ann_log.predict(test_data)\n",
    "ANN_log = evaluate_model(test_label, ann_log_pred)\n",
    "\n",
    "# Identity (Linear) activation function\n",
    "# 'adam' is a stochastic gradient based optimizer\n",
    "# 'warm_start' is set to true in order to reuse the solution of the previous call to 'fit' as initialization\n",
    "ann_identity = MLPClassifier(activation='identity', solver='adam', alpha=1e-1, hidden_layer_sizes=(5, 2), warm_start=True)\n",
    "ann_identity.fit(train_data, train_label)                         \n",
    "ann_identity_pred = ann_identity.predict(test_data)\n",
    "ANN_identity = evaluate_model(test_label, ann_identity_pred)\n",
    "\n",
    "overall_ann = round(pd.DataFrame([ANN_TanH, ANN_relu, ANN_log, ANN_identity], index=['ANN - Tanh', 'ANN - ReLU', 'ANN - Logistic', 'ANN - Identity']), 4)\n",
    "display(overall_ann)"
   ]
  },
  {
   "cell_type": "markdown",
   "metadata": {},
   "source": [
    "#### 5.3 Support Vector Machine\n",
    "\n",
    "- We experimented with various kernel functions for support vector machines"
   ]
  },
  {
   "cell_type": "code",
   "execution_count": 91,
   "metadata": {
    "pycharm": {
     "is_executing": false,
     "name": "#%%\n"
    }
   },
   "outputs": [
    {
     "data": {
      "text/html": [
       "<div>\n",
       "<style scoped>\n",
       "    .dataframe tbody tr th:only-of-type {\n",
       "        vertical-align: middle;\n",
       "    }\n",
       "\n",
       "    .dataframe tbody tr th {\n",
       "        vertical-align: top;\n",
       "    }\n",
       "\n",
       "    .dataframe thead th {\n",
       "        text-align: right;\n",
       "    }\n",
       "</style>\n",
       "<table border=\"1\" class=\"dataframe\">\n",
       "  <thead>\n",
       "    <tr style=\"text-align: right;\">\n",
       "      <th></th>\n",
       "      <th>Error Rate</th>\n",
       "      <th>Precision</th>\n",
       "      <th>F-Measure</th>\n",
       "      <th>Sensitivity</th>\n",
       "      <th>Specificity</th>\n",
       "    </tr>\n",
       "  </thead>\n",
       "  <tbody>\n",
       "    <tr>\n",
       "      <td>SVM - Linear</td>\n",
       "      <td>0.1485</td>\n",
       "      <td>0.7281</td>\n",
       "      <td>0.6511</td>\n",
       "      <td>0.5889</td>\n",
       "      <td>0.9323</td>\n",
       "    </tr>\n",
       "    <tr>\n",
       "      <td>SVM - Polynomial</td>\n",
       "      <td>0.1658</td>\n",
       "      <td>0.7082</td>\n",
       "      <td>0.5879</td>\n",
       "      <td>0.5026</td>\n",
       "      <td>0.9363</td>\n",
       "    </tr>\n",
       "    <tr>\n",
       "      <td>SVM - Sigmoid</td>\n",
       "      <td>0.1744</td>\n",
       "      <td>0.6393</td>\n",
       "      <td>0.6155</td>\n",
       "      <td>0.5935</td>\n",
       "      <td>0.8970</td>\n",
       "    </tr>\n",
       "  </tbody>\n",
       "</table>\n",
       "</div>"
      ],
      "text/plain": [
       "                  Error Rate  Precision  F-Measure  Sensitivity  Specificity\n",
       "SVM - Linear          0.1485     0.7281     0.6511       0.5889       0.9323\n",
       "SVM - Polynomial      0.1658     0.7082     0.5879       0.5026       0.9363\n",
       "SVM - Sigmoid         0.1744     0.6393     0.6155       0.5935       0.8970"
      ]
     },
     "metadata": {},
     "output_type": "display_data"
    }
   ],
   "source": [
    "# Linear kernel function\n",
    "svm_clf_linear = svm.SVC(kernel='linear')\n",
    "svm_clf_linear.fit(train_data, train_label)\n",
    "svm_clf_linear_pred = svm_clf_linear.predict(test_data)\n",
    "SVM_linear = evaluate_model(test_label, svm_clf_linear_pred)\n",
    "\n",
    "# Polynomial kernel function\n",
    "svm_clf_poly = svm.SVC(kernel='poly')\n",
    "svm_clf_poly.fit(train_data, train_label)\n",
    "svm_clf_poly_pred = svm_clf_poly.predict(test_data)\n",
    "SVM_poly = evaluate_model(test_label, svm_clf_poly_pred)\n",
    "\n",
    "# Sigmoid kernel function\n",
    "svm_clf_sigmoid = svm.SVC(kernel='sigmoid')\n",
    "svm_clf_sigmoid.fit(train_data, train_label)\n",
    "svm_clf_sigmoid_pred = svm_clf_sigmoid.predict(test_data)\n",
    "SVM_sigmoid = evaluate_model(test_label, svm_clf_sigmoid_pred)\n",
    "\n",
    "overall_svm = round(pd.DataFrame([SVM_linear, SVM_poly, SVM_sigmoid], index=['SVM - Linear', 'SVM - Polynomial', 'SVM - Sigmoid']), 4)\n",
    "display(overall_svm)"
   ]
  },
  {
   "cell_type": "markdown",
   "metadata": {},
   "source": [
    "#### 5.4 Random Forest\n",
    "\n",
    "- We used both Gini Index and Entropy to decide the splits of the decision trees in the Random Forest.\n",
    "- We experimented with different number of decision trees in the Random Forest.\n",
    "- Minimum samples to split an internal node = 5%\n",
    "- Minimum samples required at leaf node = 0.1%"
   ]
  },
  {
   "cell_type": "code",
   "execution_count": 92,
   "metadata": {
    "pycharm": {
     "is_executing": false,
     "name": "#%%\n"
    }
   },
   "outputs": [
    {
     "data": {
      "text/html": [
       "<div>\n",
       "<style scoped>\n",
       "    .dataframe tbody tr th:only-of-type {\n",
       "        vertical-align: middle;\n",
       "    }\n",
       "\n",
       "    .dataframe tbody tr th {\n",
       "        vertical-align: top;\n",
       "    }\n",
       "\n",
       "    .dataframe thead th {\n",
       "        text-align: right;\n",
       "    }\n",
       "</style>\n",
       "<table border=\"1\" class=\"dataframe\">\n",
       "  <thead>\n",
       "    <tr style=\"text-align: right;\">\n",
       "      <th></th>\n",
       "      <th>Error Rate</th>\n",
       "      <th>Precision</th>\n",
       "      <th>F-Measure</th>\n",
       "      <th>Sensitivity</th>\n",
       "      <th>Specificity</th>\n",
       "    </tr>\n",
       "  </thead>\n",
       "  <tbody>\n",
       "    <tr>\n",
       "      <td>Random Forest - Gini Index</td>\n",
       "      <td>0.1441</td>\n",
       "      <td>0.7183</td>\n",
       "      <td>0.6758</td>\n",
       "      <td>0.6380</td>\n",
       "      <td>0.9230</td>\n",
       "    </tr>\n",
       "    <tr>\n",
       "      <td>Random Forest - Entropy</td>\n",
       "      <td>0.1404</td>\n",
       "      <td>0.7304</td>\n",
       "      <td>0.6819</td>\n",
       "      <td>0.6394</td>\n",
       "      <td>0.9274</td>\n",
       "    </tr>\n",
       "  </tbody>\n",
       "</table>\n",
       "</div>"
      ],
      "text/plain": [
       "                            Error Rate  Precision  F-Measure  Sensitivity  \\\n",
       "Random Forest - Gini Index      0.1441     0.7183     0.6758       0.6380   \n",
       "Random Forest - Entropy         0.1404     0.7304     0.6819       0.6394   \n",
       "\n",
       "                            Specificity  \n",
       "Random Forest - Gini Index       0.9230  \n",
       "Random Forest - Entropy          0.9274  "
      ]
     },
     "metadata": {},
     "output_type": "display_data"
    }
   ],
   "source": [
    "# Gini Index\n",
    "r_forest_gini = RandomForestClassifier(n_estimators=150, criterion='gini', max_features=None,  min_samples_split=2, min_samples_leaf=1)\n",
    "r_forest_gini.fit(train_data, train_label)\n",
    "r_forest_gini_pred = r_forest_gini.predict(test_data)\n",
    "rforest_gini = evaluate_model(test_label, r_forest_gini_pred)\n",
    "\n",
    "# Entropy\n",
    "r_forest_entropy = RandomForestClassifier(n_estimators=150, criterion='entropy', max_features=None,  min_samples_split=2, min_samples_leaf=1)\n",
    "r_forest_entropy.fit(train_data, train_label)\n",
    "r_forest_entropy_pred = r_forest_entropy.predict(test_data)\n",
    "rforest_entropy = evaluate_model(test_label, r_forest_entropy_pred)\n",
    "\n",
    "overall_rf = round(pd.DataFrame([rforest_gini, rforest_entropy], index=['Random Forest - Gini Index','Random Forest - Entropy']), 4)\n",
    "display(overall_rf)"
   ]
  },
  {
   "cell_type": "markdown",
   "metadata": {},
   "source": [
    "#### 5.5 Adaboost\n",
    "\n",
    "- We found out that the best results were obtained by using a decision tree classifier\n",
    "as the base estimator to build the boosted ensemble."
   ]
  },
  {
   "cell_type": "code",
   "execution_count": 34,
   "metadata": {
    "pycharm": {
     "is_executing": false,
     "name": "#%%\n"
    }
   },
   "outputs": [
    {
     "name": "stdout",
     "output_type": "stream",
     "text": [
      "depth= 1\n"
     ]
    },
    {
     "data": {
      "text/html": [
       "<div>\n",
       "<style scoped>\n",
       "    .dataframe tbody tr th:only-of-type {\n",
       "        vertical-align: middle;\n",
       "    }\n",
       "\n",
       "    .dataframe tbody tr th {\n",
       "        vertical-align: top;\n",
       "    }\n",
       "\n",
       "    .dataframe thead th {\n",
       "        text-align: right;\n",
       "    }\n",
       "</style>\n",
       "<table border=\"1\" class=\"dataframe\">\n",
       "  <thead>\n",
       "    <tr style=\"text-align: right;\">\n",
       "      <th></th>\n",
       "      <th>Error Rate</th>\n",
       "      <th>Precision</th>\n",
       "      <th>F-Measure</th>\n",
       "      <th>Sensitivity</th>\n",
       "      <th>Specificity</th>\n",
       "    </tr>\n",
       "  </thead>\n",
       "  <tbody>\n",
       "    <tr>\n",
       "      <td>Adaboost_test</td>\n",
       "      <td>0.13</td>\n",
       "      <td>0.7648</td>\n",
       "      <td>0.7006</td>\n",
       "      <td>0.6464</td>\n",
       "      <td>0.9389</td>\n",
       "    </tr>\n",
       "  </tbody>\n",
       "</table>\n",
       "</div>"
      ],
      "text/plain": [
       "               Error Rate  Precision  F-Measure  Sensitivity  Specificity\n",
       "Adaboost_test        0.13     0.7648     0.7006       0.6464       0.9389"
      ]
     },
     "metadata": {},
     "output_type": "display_data"
    },
    {
     "data": {
      "text/html": [
       "<div>\n",
       "<style scoped>\n",
       "    .dataframe tbody tr th:only-of-type {\n",
       "        vertical-align: middle;\n",
       "    }\n",
       "\n",
       "    .dataframe tbody tr th {\n",
       "        vertical-align: top;\n",
       "    }\n",
       "\n",
       "    .dataframe thead th {\n",
       "        text-align: right;\n",
       "    }\n",
       "</style>\n",
       "<table border=\"1\" class=\"dataframe\">\n",
       "  <thead>\n",
       "    <tr style=\"text-align: right;\">\n",
       "      <th></th>\n",
       "      <th>Error Rate</th>\n",
       "      <th>Precision</th>\n",
       "      <th>F-Measure</th>\n",
       "      <th>Sensitivity</th>\n",
       "      <th>Specificity</th>\n",
       "    </tr>\n",
       "  </thead>\n",
       "  <tbody>\n",
       "    <tr>\n",
       "      <td>Adaboost_training</td>\n",
       "      <td>0.135</td>\n",
       "      <td>0.7702</td>\n",
       "      <td>0.6903</td>\n",
       "      <td>0.6255</td>\n",
       "      <td>0.9409</td>\n",
       "    </tr>\n",
       "  </tbody>\n",
       "</table>\n",
       "</div>"
      ],
      "text/plain": [
       "                   Error Rate  Precision  F-Measure  Sensitivity  Specificity\n",
       "Adaboost_training       0.135     0.7702     0.6903       0.6255       0.9409"
      ]
     },
     "metadata": {},
     "output_type": "display_data"
    },
    {
     "name": "stdout",
     "output_type": "stream",
     "text": [
      "depth= 2\n"
     ]
    },
    {
     "data": {
      "text/html": [
       "<div>\n",
       "<style scoped>\n",
       "    .dataframe tbody tr th:only-of-type {\n",
       "        vertical-align: middle;\n",
       "    }\n",
       "\n",
       "    .dataframe tbody tr th {\n",
       "        vertical-align: top;\n",
       "    }\n",
       "\n",
       "    .dataframe thead th {\n",
       "        text-align: right;\n",
       "    }\n",
       "</style>\n",
       "<table border=\"1\" class=\"dataframe\">\n",
       "  <thead>\n",
       "    <tr style=\"text-align: right;\">\n",
       "      <th></th>\n",
       "      <th>Error Rate</th>\n",
       "      <th>Precision</th>\n",
       "      <th>F-Measure</th>\n",
       "      <th>Sensitivity</th>\n",
       "      <th>Specificity</th>\n",
       "    </tr>\n",
       "  </thead>\n",
       "  <tbody>\n",
       "    <tr>\n",
       "      <td>Adaboost_test</td>\n",
       "      <td>0.1267</td>\n",
       "      <td>0.7576</td>\n",
       "      <td>0.716</td>\n",
       "      <td>0.6787</td>\n",
       "      <td>0.9332</td>\n",
       "    </tr>\n",
       "  </tbody>\n",
       "</table>\n",
       "</div>"
      ],
      "text/plain": [
       "               Error Rate  Precision  F-Measure  Sensitivity  Specificity\n",
       "Adaboost_test      0.1267     0.7576      0.716       0.6787       0.9332"
      ]
     },
     "metadata": {},
     "output_type": "display_data"
    },
    {
     "data": {
      "text/html": [
       "<div>\n",
       "<style scoped>\n",
       "    .dataframe tbody tr th:only-of-type {\n",
       "        vertical-align: middle;\n",
       "    }\n",
       "\n",
       "    .dataframe tbody tr th {\n",
       "        vertical-align: top;\n",
       "    }\n",
       "\n",
       "    .dataframe thead th {\n",
       "        text-align: right;\n",
       "    }\n",
       "</style>\n",
       "<table border=\"1\" class=\"dataframe\">\n",
       "  <thead>\n",
       "    <tr style=\"text-align: right;\">\n",
       "      <th></th>\n",
       "      <th>Error Rate</th>\n",
       "      <th>Precision</th>\n",
       "      <th>F-Measure</th>\n",
       "      <th>Sensitivity</th>\n",
       "      <th>Specificity</th>\n",
       "    </tr>\n",
       "  </thead>\n",
       "  <tbody>\n",
       "    <tr>\n",
       "      <td>Adaboost_training</td>\n",
       "      <td>0.125</td>\n",
       "      <td>0.7777</td>\n",
       "      <td>0.7214</td>\n",
       "      <td>0.6727</td>\n",
       "      <td>0.9391</td>\n",
       "    </tr>\n",
       "  </tbody>\n",
       "</table>\n",
       "</div>"
      ],
      "text/plain": [
       "                   Error Rate  Precision  F-Measure  Sensitivity  Specificity\n",
       "Adaboost_training       0.125     0.7777     0.7214       0.6727       0.9391"
      ]
     },
     "metadata": {},
     "output_type": "display_data"
    },
    {
     "name": "stdout",
     "output_type": "stream",
     "text": [
      "depth= 3\n"
     ]
    },
    {
     "data": {
      "text/html": [
       "<div>\n",
       "<style scoped>\n",
       "    .dataframe tbody tr th:only-of-type {\n",
       "        vertical-align: middle;\n",
       "    }\n",
       "\n",
       "    .dataframe tbody tr th {\n",
       "        vertical-align: top;\n",
       "    }\n",
       "\n",
       "    .dataframe thead th {\n",
       "        text-align: right;\n",
       "    }\n",
       "</style>\n",
       "<table border=\"1\" class=\"dataframe\">\n",
       "  <thead>\n",
       "    <tr style=\"text-align: right;\">\n",
       "      <th></th>\n",
       "      <th>Error Rate</th>\n",
       "      <th>Precision</th>\n",
       "      <th>F-Measure</th>\n",
       "      <th>Sensitivity</th>\n",
       "      <th>Specificity</th>\n",
       "    </tr>\n",
       "  </thead>\n",
       "  <tbody>\n",
       "    <tr>\n",
       "      <td>Adaboost_test</td>\n",
       "      <td>0.1339</td>\n",
       "      <td>0.7399</td>\n",
       "      <td>0.7002</td>\n",
       "      <td>0.6645</td>\n",
       "      <td>0.9281</td>\n",
       "    </tr>\n",
       "  </tbody>\n",
       "</table>\n",
       "</div>"
      ],
      "text/plain": [
       "               Error Rate  Precision  F-Measure  Sensitivity  Specificity\n",
       "Adaboost_test      0.1339     0.7399     0.7002       0.6645       0.9281"
      ]
     },
     "metadata": {},
     "output_type": "display_data"
    },
    {
     "data": {
      "text/html": [
       "<div>\n",
       "<style scoped>\n",
       "    .dataframe tbody tr th:only-of-type {\n",
       "        vertical-align: middle;\n",
       "    }\n",
       "\n",
       "    .dataframe tbody tr th {\n",
       "        vertical-align: top;\n",
       "    }\n",
       "\n",
       "    .dataframe thead th {\n",
       "        text-align: right;\n",
       "    }\n",
       "</style>\n",
       "<table border=\"1\" class=\"dataframe\">\n",
       "  <thead>\n",
       "    <tr style=\"text-align: right;\">\n",
       "      <th></th>\n",
       "      <th>Error Rate</th>\n",
       "      <th>Precision</th>\n",
       "      <th>F-Measure</th>\n",
       "      <th>Sensitivity</th>\n",
       "      <th>Specificity</th>\n",
       "    </tr>\n",
       "  </thead>\n",
       "  <tbody>\n",
       "    <tr>\n",
       "      <td>Adaboost_training</td>\n",
       "      <td>0.1163</td>\n",
       "      <td>0.7996</td>\n",
       "      <td>0.7405</td>\n",
       "      <td>0.6896</td>\n",
       "      <td>0.9452</td>\n",
       "    </tr>\n",
       "  </tbody>\n",
       "</table>\n",
       "</div>"
      ],
      "text/plain": [
       "                   Error Rate  Precision  F-Measure  Sensitivity  Specificity\n",
       "Adaboost_training      0.1163     0.7996     0.7405       0.6896       0.9452"
      ]
     },
     "metadata": {},
     "output_type": "display_data"
    },
    {
     "name": "stdout",
     "output_type": "stream",
     "text": [
      "depth= 4\n"
     ]
    },
    {
     "data": {
      "text/html": [
       "<div>\n",
       "<style scoped>\n",
       "    .dataframe tbody tr th:only-of-type {\n",
       "        vertical-align: middle;\n",
       "    }\n",
       "\n",
       "    .dataframe tbody tr th {\n",
       "        vertical-align: top;\n",
       "    }\n",
       "\n",
       "    .dataframe thead th {\n",
       "        text-align: right;\n",
       "    }\n",
       "</style>\n",
       "<table border=\"1\" class=\"dataframe\">\n",
       "  <thead>\n",
       "    <tr style=\"text-align: right;\">\n",
       "      <th></th>\n",
       "      <th>Error Rate</th>\n",
       "      <th>Precision</th>\n",
       "      <th>F-Measure</th>\n",
       "      <th>Sensitivity</th>\n",
       "      <th>Specificity</th>\n",
       "    </tr>\n",
       "  </thead>\n",
       "  <tbody>\n",
       "    <tr>\n",
       "      <td>Adaboost_test</td>\n",
       "      <td>0.14</td>\n",
       "      <td>0.7196</td>\n",
       "      <td>0.6906</td>\n",
       "      <td>0.6638</td>\n",
       "      <td>0.9204</td>\n",
       "    </tr>\n",
       "  </tbody>\n",
       "</table>\n",
       "</div>"
      ],
      "text/plain": [
       "               Error Rate  Precision  F-Measure  Sensitivity  Specificity\n",
       "Adaboost_test        0.14     0.7196     0.6906       0.6638       0.9204"
      ]
     },
     "metadata": {},
     "output_type": "display_data"
    },
    {
     "data": {
      "text/html": [
       "<div>\n",
       "<style scoped>\n",
       "    .dataframe tbody tr th:only-of-type {\n",
       "        vertical-align: middle;\n",
       "    }\n",
       "\n",
       "    .dataframe tbody tr th {\n",
       "        vertical-align: top;\n",
       "    }\n",
       "\n",
       "    .dataframe thead th {\n",
       "        text-align: right;\n",
       "    }\n",
       "</style>\n",
       "<table border=\"1\" class=\"dataframe\">\n",
       "  <thead>\n",
       "    <tr style=\"text-align: right;\">\n",
       "      <th></th>\n",
       "      <th>Error Rate</th>\n",
       "      <th>Precision</th>\n",
       "      <th>F-Measure</th>\n",
       "      <th>Sensitivity</th>\n",
       "      <th>Specificity</th>\n",
       "    </tr>\n",
       "  </thead>\n",
       "  <tbody>\n",
       "    <tr>\n",
       "      <td>Adaboost_training</td>\n",
       "      <td>0.1027</td>\n",
       "      <td>0.816</td>\n",
       "      <td>0.7761</td>\n",
       "      <td>0.7398</td>\n",
       "      <td>0.9472</td>\n",
       "    </tr>\n",
       "  </tbody>\n",
       "</table>\n",
       "</div>"
      ],
      "text/plain": [
       "                   Error Rate  Precision  F-Measure  Sensitivity  Specificity\n",
       "Adaboost_training      0.1027      0.816     0.7761       0.7398       0.9472"
      ]
     },
     "metadata": {},
     "output_type": "display_data"
    },
    {
     "name": "stdout",
     "output_type": "stream",
     "text": [
      "depth= 5\n"
     ]
    },
    {
     "data": {
      "text/html": [
       "<div>\n",
       "<style scoped>\n",
       "    .dataframe tbody tr th:only-of-type {\n",
       "        vertical-align: middle;\n",
       "    }\n",
       "\n",
       "    .dataframe tbody tr th {\n",
       "        vertical-align: top;\n",
       "    }\n",
       "\n",
       "    .dataframe thead th {\n",
       "        text-align: right;\n",
       "    }\n",
       "</style>\n",
       "<table border=\"1\" class=\"dataframe\">\n",
       "  <thead>\n",
       "    <tr style=\"text-align: right;\">\n",
       "      <th></th>\n",
       "      <th>Error Rate</th>\n",
       "      <th>Precision</th>\n",
       "      <th>F-Measure</th>\n",
       "      <th>Sensitivity</th>\n",
       "      <th>Specificity</th>\n",
       "    </tr>\n",
       "  </thead>\n",
       "  <tbody>\n",
       "    <tr>\n",
       "      <td>Adaboost_test</td>\n",
       "      <td>0.1467</td>\n",
       "      <td>0.6996</td>\n",
       "      <td>0.6792</td>\n",
       "      <td>0.6599</td>\n",
       "      <td>0.9128</td>\n",
       "    </tr>\n",
       "  </tbody>\n",
       "</table>\n",
       "</div>"
      ],
      "text/plain": [
       "               Error Rate  Precision  F-Measure  Sensitivity  Specificity\n",
       "Adaboost_test      0.1467     0.6996     0.6792       0.6599       0.9128"
      ]
     },
     "metadata": {},
     "output_type": "display_data"
    },
    {
     "data": {
      "text/html": [
       "<div>\n",
       "<style scoped>\n",
       "    .dataframe tbody tr th:only-of-type {\n",
       "        vertical-align: middle;\n",
       "    }\n",
       "\n",
       "    .dataframe tbody tr th {\n",
       "        vertical-align: top;\n",
       "    }\n",
       "\n",
       "    .dataframe thead th {\n",
       "        text-align: right;\n",
       "    }\n",
       "</style>\n",
       "<table border=\"1\" class=\"dataframe\">\n",
       "  <thead>\n",
       "    <tr style=\"text-align: right;\">\n",
       "      <th></th>\n",
       "      <th>Error Rate</th>\n",
       "      <th>Precision</th>\n",
       "      <th>F-Measure</th>\n",
       "      <th>Sensitivity</th>\n",
       "      <th>Specificity</th>\n",
       "    </tr>\n",
       "  </thead>\n",
       "  <tbody>\n",
       "    <tr>\n",
       "      <td>Adaboost_training</td>\n",
       "      <td>0.0848</td>\n",
       "      <td>0.8479</td>\n",
       "      <td>0.8174</td>\n",
       "      <td>0.789</td>\n",
       "      <td>0.9552</td>\n",
       "    </tr>\n",
       "  </tbody>\n",
       "</table>\n",
       "</div>"
      ],
      "text/plain": [
       "                   Error Rate  Precision  F-Measure  Sensitivity  Specificity\n",
       "Adaboost_training      0.0848     0.8479     0.8174        0.789       0.9552"
      ]
     },
     "metadata": {},
     "output_type": "display_data"
    },
    {
     "name": "stdout",
     "output_type": "stream",
     "text": [
      "depth= 6\n"
     ]
    },
    {
     "data": {
      "text/html": [
       "<div>\n",
       "<style scoped>\n",
       "    .dataframe tbody tr th:only-of-type {\n",
       "        vertical-align: middle;\n",
       "    }\n",
       "\n",
       "    .dataframe tbody tr th {\n",
       "        vertical-align: top;\n",
       "    }\n",
       "\n",
       "    .dataframe thead th {\n",
       "        text-align: right;\n",
       "    }\n",
       "</style>\n",
       "<table border=\"1\" class=\"dataframe\">\n",
       "  <thead>\n",
       "    <tr style=\"text-align: right;\">\n",
       "      <th></th>\n",
       "      <th>Error Rate</th>\n",
       "      <th>Precision</th>\n",
       "      <th>F-Measure</th>\n",
       "      <th>Sensitivity</th>\n",
       "      <th>Specificity</th>\n",
       "    </tr>\n",
       "  </thead>\n",
       "  <tbody>\n",
       "    <tr>\n",
       "      <td>Adaboost_test</td>\n",
       "      <td>0.157</td>\n",
       "      <td>0.6729</td>\n",
       "      <td>0.6599</td>\n",
       "      <td>0.6474</td>\n",
       "      <td>0.9032</td>\n",
       "    </tr>\n",
       "  </tbody>\n",
       "</table>\n",
       "</div>"
      ],
      "text/plain": [
       "               Error Rate  Precision  F-Measure  Sensitivity  Specificity\n",
       "Adaboost_test       0.157     0.6729     0.6599       0.6474       0.9032"
      ]
     },
     "metadata": {},
     "output_type": "display_data"
    },
    {
     "data": {
      "text/html": [
       "<div>\n",
       "<style scoped>\n",
       "    .dataframe tbody tr th:only-of-type {\n",
       "        vertical-align: middle;\n",
       "    }\n",
       "\n",
       "    .dataframe tbody tr th {\n",
       "        vertical-align: top;\n",
       "    }\n",
       "\n",
       "    .dataframe thead th {\n",
       "        text-align: right;\n",
       "    }\n",
       "</style>\n",
       "<table border=\"1\" class=\"dataframe\">\n",
       "  <thead>\n",
       "    <tr style=\"text-align: right;\">\n",
       "      <th></th>\n",
       "      <th>Error Rate</th>\n",
       "      <th>Precision</th>\n",
       "      <th>F-Measure</th>\n",
       "      <th>Sensitivity</th>\n",
       "      <th>Specificity</th>\n",
       "    </tr>\n",
       "  </thead>\n",
       "  <tbody>\n",
       "    <tr>\n",
       "      <td>Adaboost_training</td>\n",
       "      <td>0.0544</td>\n",
       "      <td>0.8981</td>\n",
       "      <td>0.8853</td>\n",
       "      <td>0.8729</td>\n",
       "      <td>0.9686</td>\n",
       "    </tr>\n",
       "  </tbody>\n",
       "</table>\n",
       "</div>"
      ],
      "text/plain": [
       "                   Error Rate  Precision  F-Measure  Sensitivity  Specificity\n",
       "Adaboost_training      0.0544     0.8981     0.8853       0.8729       0.9686"
      ]
     },
     "metadata": {},
     "output_type": "display_data"
    },
    {
     "name": "stdout",
     "output_type": "stream",
     "text": [
      "depth= 7\n"
     ]
    },
    {
     "data": {
      "text/html": [
       "<div>\n",
       "<style scoped>\n",
       "    .dataframe tbody tr th:only-of-type {\n",
       "        vertical-align: middle;\n",
       "    }\n",
       "\n",
       "    .dataframe tbody tr th {\n",
       "        vertical-align: top;\n",
       "    }\n",
       "\n",
       "    .dataframe thead th {\n",
       "        text-align: right;\n",
       "    }\n",
       "</style>\n",
       "<table border=\"1\" class=\"dataframe\">\n",
       "  <thead>\n",
       "    <tr style=\"text-align: right;\">\n",
       "      <th></th>\n",
       "      <th>Error Rate</th>\n",
       "      <th>Precision</th>\n",
       "      <th>F-Measure</th>\n",
       "      <th>Sensitivity</th>\n",
       "      <th>Specificity</th>\n",
       "    </tr>\n",
       "  </thead>\n",
       "  <tbody>\n",
       "    <tr>\n",
       "      <td>Adaboost_test</td>\n",
       "      <td>0.1625</td>\n",
       "      <td>0.6617</td>\n",
       "      <td>0.6471</td>\n",
       "      <td>0.6331</td>\n",
       "      <td>0.9004</td>\n",
       "    </tr>\n",
       "  </tbody>\n",
       "</table>\n",
       "</div>"
      ],
      "text/plain": [
       "               Error Rate  Precision  F-Measure  Sensitivity  Specificity\n",
       "Adaboost_test      0.1625     0.6617     0.6471       0.6331       0.9004"
      ]
     },
     "metadata": {},
     "output_type": "display_data"
    },
    {
     "data": {
      "text/html": [
       "<div>\n",
       "<style scoped>\n",
       "    .dataframe tbody tr th:only-of-type {\n",
       "        vertical-align: middle;\n",
       "    }\n",
       "\n",
       "    .dataframe tbody tr th {\n",
       "        vertical-align: top;\n",
       "    }\n",
       "\n",
       "    .dataframe thead th {\n",
       "        text-align: right;\n",
       "    }\n",
       "</style>\n",
       "<table border=\"1\" class=\"dataframe\">\n",
       "  <thead>\n",
       "    <tr style=\"text-align: right;\">\n",
       "      <th></th>\n",
       "      <th>Error Rate</th>\n",
       "      <th>Precision</th>\n",
       "      <th>F-Measure</th>\n",
       "      <th>Sensitivity</th>\n",
       "      <th>Specificity</th>\n",
       "    </tr>\n",
       "  </thead>\n",
       "  <tbody>\n",
       "    <tr>\n",
       "      <td>Adaboost_training</td>\n",
       "      <td>0.0259</td>\n",
       "      <td>0.9511</td>\n",
       "      <td>0.9459</td>\n",
       "      <td>0.9407</td>\n",
       "      <td>0.9847</td>\n",
       "    </tr>\n",
       "  </tbody>\n",
       "</table>\n",
       "</div>"
      ],
      "text/plain": [
       "                   Error Rate  Precision  F-Measure  Sensitivity  Specificity\n",
       "Adaboost_training      0.0259     0.9511     0.9459       0.9407       0.9847"
      ]
     },
     "metadata": {},
     "output_type": "display_data"
    },
    {
     "name": "stdout",
     "output_type": "stream",
     "text": [
      "depth= 8\n"
     ]
    },
    {
     "data": {
      "text/html": [
       "<div>\n",
       "<style scoped>\n",
       "    .dataframe tbody tr th:only-of-type {\n",
       "        vertical-align: middle;\n",
       "    }\n",
       "\n",
       "    .dataframe tbody tr th {\n",
       "        vertical-align: top;\n",
       "    }\n",
       "\n",
       "    .dataframe thead th {\n",
       "        text-align: right;\n",
       "    }\n",
       "</style>\n",
       "<table border=\"1\" class=\"dataframe\">\n",
       "  <thead>\n",
       "    <tr style=\"text-align: right;\">\n",
       "      <th></th>\n",
       "      <th>Error Rate</th>\n",
       "      <th>Precision</th>\n",
       "      <th>F-Measure</th>\n",
       "      <th>Sensitivity</th>\n",
       "      <th>Specificity</th>\n",
       "    </tr>\n",
       "  </thead>\n",
       "  <tbody>\n",
       "    <tr>\n",
       "      <td>Adaboost_test</td>\n",
       "      <td>0.1695</td>\n",
       "      <td>0.6486</td>\n",
       "      <td>0.6286</td>\n",
       "      <td>0.6098</td>\n",
       "      <td>0.8984</td>\n",
       "    </tr>\n",
       "  </tbody>\n",
       "</table>\n",
       "</div>"
      ],
      "text/plain": [
       "               Error Rate  Precision  F-Measure  Sensitivity  Specificity\n",
       "Adaboost_test      0.1695     0.6486     0.6286       0.6098       0.8984"
      ]
     },
     "metadata": {},
     "output_type": "display_data"
    },
    {
     "data": {
      "text/html": [
       "<div>\n",
       "<style scoped>\n",
       "    .dataframe tbody tr th:only-of-type {\n",
       "        vertical-align: middle;\n",
       "    }\n",
       "\n",
       "    .dataframe tbody tr th {\n",
       "        vertical-align: top;\n",
       "    }\n",
       "\n",
       "    .dataframe thead th {\n",
       "        text-align: right;\n",
       "    }\n",
       "</style>\n",
       "<table border=\"1\" class=\"dataframe\">\n",
       "  <thead>\n",
       "    <tr style=\"text-align: right;\">\n",
       "      <th></th>\n",
       "      <th>Error Rate</th>\n",
       "      <th>Precision</th>\n",
       "      <th>F-Measure</th>\n",
       "      <th>Sensitivity</th>\n",
       "      <th>Specificity</th>\n",
       "    </tr>\n",
       "  </thead>\n",
       "  <tbody>\n",
       "    <tr>\n",
       "      <td>Adaboost_training</td>\n",
       "      <td>0.0008</td>\n",
       "      <td>0.9984</td>\n",
       "      <td>0.9984</td>\n",
       "      <td>0.9983</td>\n",
       "      <td>0.9995</td>\n",
       "    </tr>\n",
       "  </tbody>\n",
       "</table>\n",
       "</div>"
      ],
      "text/plain": [
       "                   Error Rate  Precision  F-Measure  Sensitivity  Specificity\n",
       "Adaboost_training      0.0008     0.9984     0.9984       0.9983       0.9995"
      ]
     },
     "metadata": {},
     "output_type": "display_data"
    },
    {
     "name": "stdout",
     "output_type": "stream",
     "text": [
      "depth= 9\n"
     ]
    },
    {
     "data": {
      "text/html": [
       "<div>\n",
       "<style scoped>\n",
       "    .dataframe tbody tr th:only-of-type {\n",
       "        vertical-align: middle;\n",
       "    }\n",
       "\n",
       "    .dataframe tbody tr th {\n",
       "        vertical-align: top;\n",
       "    }\n",
       "\n",
       "    .dataframe thead th {\n",
       "        text-align: right;\n",
       "    }\n",
       "</style>\n",
       "<table border=\"1\" class=\"dataframe\">\n",
       "  <thead>\n",
       "    <tr style=\"text-align: right;\">\n",
       "      <th></th>\n",
       "      <th>Error Rate</th>\n",
       "      <th>Precision</th>\n",
       "      <th>F-Measure</th>\n",
       "      <th>Sensitivity</th>\n",
       "      <th>Specificity</th>\n",
       "    </tr>\n",
       "  </thead>\n",
       "  <tbody>\n",
       "    <tr>\n",
       "      <td>Adaboost_test</td>\n",
       "      <td>0.1691</td>\n",
       "      <td>0.6502</td>\n",
       "      <td>0.6288</td>\n",
       "      <td>0.6088</td>\n",
       "      <td>0.8992</td>\n",
       "    </tr>\n",
       "  </tbody>\n",
       "</table>\n",
       "</div>"
      ],
      "text/plain": [
       "               Error Rate  Precision  F-Measure  Sensitivity  Specificity\n",
       "Adaboost_test      0.1691     0.6502     0.6288       0.6088       0.8992"
      ]
     },
     "metadata": {},
     "output_type": "display_data"
    },
    {
     "data": {
      "text/html": [
       "<div>\n",
       "<style scoped>\n",
       "    .dataframe tbody tr th:only-of-type {\n",
       "        vertical-align: middle;\n",
       "    }\n",
       "\n",
       "    .dataframe tbody tr th {\n",
       "        vertical-align: top;\n",
       "    }\n",
       "\n",
       "    .dataframe thead th {\n",
       "        text-align: right;\n",
       "    }\n",
       "</style>\n",
       "<table border=\"1\" class=\"dataframe\">\n",
       "  <thead>\n",
       "    <tr style=\"text-align: right;\">\n",
       "      <th></th>\n",
       "      <th>Error Rate</th>\n",
       "      <th>Precision</th>\n",
       "      <th>F-Measure</th>\n",
       "      <th>Sensitivity</th>\n",
       "      <th>Specificity</th>\n",
       "    </tr>\n",
       "  </thead>\n",
       "  <tbody>\n",
       "    <tr>\n",
       "      <td>Adaboost_training</td>\n",
       "      <td>0.0001</td>\n",
       "      <td>0.9999</td>\n",
       "      <td>0.9998</td>\n",
       "      <td>0.9997</td>\n",
       "      <td>1.0</td>\n",
       "    </tr>\n",
       "  </tbody>\n",
       "</table>\n",
       "</div>"
      ],
      "text/plain": [
       "                   Error Rate  Precision  F-Measure  Sensitivity  Specificity\n",
       "Adaboost_training      0.0001     0.9999     0.9998       0.9997          1.0"
      ]
     },
     "metadata": {},
     "output_type": "display_data"
    }
   ],
   "source": [
    "#new\n",
    "depth = []\n",
    "errTr = []\n",
    "errTe = []\n",
    "for i in range (1,10):\n",
    "    print('depth=',i)\n",
    "    ada = AdaBoostClassifier(base_estimator=DecisionTreeClassifier(max_depth=i), n_estimators=100)                     \n",
    "    ada.fit(train_data, train_label)\n",
    "    ada_pred = ada.predict(test_data)\n",
    "    adaboost_test = evaluate_model(test_label, ada_pred)\n",
    "    overall_ada = round(pd.DataFrame([adaboost_test], index=['Adaboost_test']), 4)\n",
    "    display(overall_ada)\n",
    "    errTe.append(round(adaboost_test['Error Rate'],4))\n",
    "    \n",
    "    ada_pred_tr = ada.predict(train_data)\n",
    "    adaboost_tr = evaluate_model(train_label, ada_pred_tr)\n",
    "    overall_ada_tr = round(pd.DataFrame([adaboost_tr], index=['Adaboost_training']), 4)\n",
    "    display(overall_ada_tr)\n",
    "    errTr.append(round(adaboost_tr['Error Rate'],4))\n",
    "    depth.append(i)\n",
    "\n"
   ]
  },
  {
   "cell_type": "code",
   "execution_count": 35,
   "metadata": {},
   "outputs": [
    {
     "data": {
      "image/png": "[encoded data removed]",
      "text/plain": [
       "<Figure size 432x288 with 1 Axes>"
      ]
     },
     "metadata": {
      "needs_background": "light"
     },
     "output_type": "display_data"
    }
   ],
   "source": [
    "import matplotlib.pyplot as plt\n",
    "\n",
    "plt.plot(depth,errTr,label='Training')\n",
    "plt.plot(depth,errTe, label='Test')\n",
    "plt.xlabel(\"Max-depth\")\n",
    "plt.ylabel(\"Error\")\n",
    "plt.legend(loc='lower left')\n",
    "plt.show()\n",
    "\n"
   ]
  },
  {
   "cell_type": "code",
   "execution_count": 39,
   "metadata": {},
   "outputs": [
    {
     "data": {
      "text/plain": [
       "[0.13, 0.1267, 0.1339, 0.14, 0.1467, 0.157, 0.1625, 0.1695, 0.1691]"
      ]
     },
     "execution_count": 39,
     "metadata": {},
     "output_type": "execute_result"
    }
   ],
   "source": [
    "np.argmin(errTe)\n",
    "depth[1]"
   ]
  },
  {
   "cell_type": "code",
   "execution_count": 54,
   "metadata": {},
   "outputs": [
    {
     "name": "stdout",
     "output_type": "stream",
     "text": [
      "min_samples_split= 4\n"
     ]
    },
    {
     "data": {
      "text/html": [
       "<div>\n",
       "<style scoped>\n",
       "    .dataframe tbody tr th:only-of-type {\n",
       "        vertical-align: middle;\n",
       "    }\n",
       "\n",
       "    .dataframe tbody tr th {\n",
       "        vertical-align: top;\n",
       "    }\n",
       "\n",
       "    .dataframe thead th {\n",
       "        text-align: right;\n",
       "    }\n",
       "</style>\n",
       "<table border=\"1\" class=\"dataframe\">\n",
       "  <thead>\n",
       "    <tr style=\"text-align: right;\">\n",
       "      <th></th>\n",
       "      <th>Error Rate</th>\n",
       "      <th>Precision</th>\n",
       "      <th>F-Measure</th>\n",
       "      <th>Sensitivity</th>\n",
       "      <th>Specificity</th>\n",
       "    </tr>\n",
       "  </thead>\n",
       "  <tbody>\n",
       "    <tr>\n",
       "      <td>Adaboost_test</td>\n",
       "      <td>0.1268</td>\n",
       "      <td>0.7573</td>\n",
       "      <td>0.7159</td>\n",
       "      <td>0.6787</td>\n",
       "      <td>0.9331</td>\n",
       "    </tr>\n",
       "  </tbody>\n",
       "</table>\n",
       "</div>"
      ],
      "text/plain": [
       "               Error Rate  Precision  F-Measure  Sensitivity  Specificity\n",
       "Adaboost_test      0.1268     0.7573     0.7159       0.6787       0.9331"
      ]
     },
     "metadata": {},
     "output_type": "display_data"
    },
    {
     "name": "stdout",
     "output_type": "stream",
     "text": [
      "min_samples_split= 8\n"
     ]
    },
    {
     "data": {
      "text/html": [
       "<div>\n",
       "<style scoped>\n",
       "    .dataframe tbody tr th:only-of-type {\n",
       "        vertical-align: middle;\n",
       "    }\n",
       "\n",
       "    .dataframe tbody tr th {\n",
       "        vertical-align: top;\n",
       "    }\n",
       "\n",
       "    .dataframe thead th {\n",
       "        text-align: right;\n",
       "    }\n",
       "</style>\n",
       "<table border=\"1\" class=\"dataframe\">\n",
       "  <thead>\n",
       "    <tr style=\"text-align: right;\">\n",
       "      <th></th>\n",
       "      <th>Error Rate</th>\n",
       "      <th>Precision</th>\n",
       "      <th>F-Measure</th>\n",
       "      <th>Sensitivity</th>\n",
       "      <th>Specificity</th>\n",
       "    </tr>\n",
       "  </thead>\n",
       "  <tbody>\n",
       "    <tr>\n",
       "      <td>Adaboost_test</td>\n",
       "      <td>0.1267</td>\n",
       "      <td>0.7576</td>\n",
       "      <td>0.716</td>\n",
       "      <td>0.6787</td>\n",
       "      <td>0.9332</td>\n",
       "    </tr>\n",
       "  </tbody>\n",
       "</table>\n",
       "</div>"
      ],
      "text/plain": [
       "               Error Rate  Precision  F-Measure  Sensitivity  Specificity\n",
       "Adaboost_test      0.1267     0.7576      0.716       0.6787       0.9332"
      ]
     },
     "metadata": {},
     "output_type": "display_data"
    },
    {
     "name": "stdout",
     "output_type": "stream",
     "text": [
      "min_samples_split= 16\n"
     ]
    },
    {
     "data": {
      "text/html": [
       "<div>\n",
       "<style scoped>\n",
       "    .dataframe tbody tr th:only-of-type {\n",
       "        vertical-align: middle;\n",
       "    }\n",
       "\n",
       "    .dataframe tbody tr th {\n",
       "        vertical-align: top;\n",
       "    }\n",
       "\n",
       "    .dataframe thead th {\n",
       "        text-align: right;\n",
       "    }\n",
       "</style>\n",
       "<table border=\"1\" class=\"dataframe\">\n",
       "  <thead>\n",
       "    <tr style=\"text-align: right;\">\n",
       "      <th></th>\n",
       "      <th>Error Rate</th>\n",
       "      <th>Precision</th>\n",
       "      <th>F-Measure</th>\n",
       "      <th>Sensitivity</th>\n",
       "      <th>Specificity</th>\n",
       "    </tr>\n",
       "  </thead>\n",
       "  <tbody>\n",
       "    <tr>\n",
       "      <td>Adaboost_test</td>\n",
       "      <td>0.1267</td>\n",
       "      <td>0.7576</td>\n",
       "      <td>0.716</td>\n",
       "      <td>0.6787</td>\n",
       "      <td>0.9332</td>\n",
       "    </tr>\n",
       "  </tbody>\n",
       "</table>\n",
       "</div>"
      ],
      "text/plain": [
       "               Error Rate  Precision  F-Measure  Sensitivity  Specificity\n",
       "Adaboost_test      0.1267     0.7576      0.716       0.6787       0.9332"
      ]
     },
     "metadata": {},
     "output_type": "display_data"
    },
    {
     "name": "stdout",
     "output_type": "stream",
     "text": [
      "min_samples_split= 32\n"
     ]
    },
    {
     "data": {
      "text/html": [
       "<div>\n",
       "<style scoped>\n",
       "    .dataframe tbody tr th:only-of-type {\n",
       "        vertical-align: middle;\n",
       "    }\n",
       "\n",
       "    .dataframe tbody tr th {\n",
       "        vertical-align: top;\n",
       "    }\n",
       "\n",
       "    .dataframe thead th {\n",
       "        text-align: right;\n",
       "    }\n",
       "</style>\n",
       "<table border=\"1\" class=\"dataframe\">\n",
       "  <thead>\n",
       "    <tr style=\"text-align: right;\">\n",
       "      <th></th>\n",
       "      <th>Error Rate</th>\n",
       "      <th>Precision</th>\n",
       "      <th>F-Measure</th>\n",
       "      <th>Sensitivity</th>\n",
       "      <th>Specificity</th>\n",
       "    </tr>\n",
       "  </thead>\n",
       "  <tbody>\n",
       "    <tr>\n",
       "      <td>Adaboost_test</td>\n",
       "      <td>0.1266</td>\n",
       "      <td>0.7585</td>\n",
       "      <td>0.7158</td>\n",
       "      <td>0.6777</td>\n",
       "      <td>0.9336</td>\n",
       "    </tr>\n",
       "  </tbody>\n",
       "</table>\n",
       "</div>"
      ],
      "text/plain": [
       "               Error Rate  Precision  F-Measure  Sensitivity  Specificity\n",
       "Adaboost_test      0.1266     0.7585     0.7158       0.6777       0.9336"
      ]
     },
     "metadata": {},
     "output_type": "display_data"
    },
    {
     "name": "stdout",
     "output_type": "stream",
     "text": [
      "min_samples_split= 64\n"
     ]
    },
    {
     "data": {
      "text/html": [
       "<div>\n",
       "<style scoped>\n",
       "    .dataframe tbody tr th:only-of-type {\n",
       "        vertical-align: middle;\n",
       "    }\n",
       "\n",
       "    .dataframe tbody tr th {\n",
       "        vertical-align: top;\n",
       "    }\n",
       "\n",
       "    .dataframe thead th {\n",
       "        text-align: right;\n",
       "    }\n",
       "</style>\n",
       "<table border=\"1\" class=\"dataframe\">\n",
       "  <thead>\n",
       "    <tr style=\"text-align: right;\">\n",
       "      <th></th>\n",
       "      <th>Error Rate</th>\n",
       "      <th>Precision</th>\n",
       "      <th>F-Measure</th>\n",
       "      <th>Sensitivity</th>\n",
       "      <th>Specificity</th>\n",
       "    </tr>\n",
       "  </thead>\n",
       "  <tbody>\n",
       "    <tr>\n",
       "      <td>Adaboost_test</td>\n",
       "      <td>0.1249</td>\n",
       "      <td>0.7705</td>\n",
       "      <td>0.7158</td>\n",
       "      <td>0.6683</td>\n",
       "      <td>0.9387</td>\n",
       "    </tr>\n",
       "  </tbody>\n",
       "</table>\n",
       "</div>"
      ],
      "text/plain": [
       "               Error Rate  Precision  F-Measure  Sensitivity  Specificity\n",
       "Adaboost_test      0.1249     0.7705     0.7158       0.6683       0.9387"
      ]
     },
     "metadata": {},
     "output_type": "display_data"
    },
    {
     "name": "stdout",
     "output_type": "stream",
     "text": [
      "min_samples_split= 128\n"
     ]
    },
    {
     "data": {
      "text/html": [
       "<div>\n",
       "<style scoped>\n",
       "    .dataframe tbody tr th:only-of-type {\n",
       "        vertical-align: middle;\n",
       "    }\n",
       "\n",
       "    .dataframe tbody tr th {\n",
       "        vertical-align: top;\n",
       "    }\n",
       "\n",
       "    .dataframe thead th {\n",
       "        text-align: right;\n",
       "    }\n",
       "</style>\n",
       "<table border=\"1\" class=\"dataframe\">\n",
       "  <thead>\n",
       "    <tr style=\"text-align: right;\">\n",
       "      <th></th>\n",
       "      <th>Error Rate</th>\n",
       "      <th>Precision</th>\n",
       "      <th>F-Measure</th>\n",
       "      <th>Sensitivity</th>\n",
       "      <th>Specificity</th>\n",
       "    </tr>\n",
       "  </thead>\n",
       "  <tbody>\n",
       "    <tr>\n",
       "      <td>Adaboost_test</td>\n",
       "      <td>0.1258</td>\n",
       "      <td>0.7641</td>\n",
       "      <td>0.7158</td>\n",
       "      <td>0.6732</td>\n",
       "      <td>0.9361</td>\n",
       "    </tr>\n",
       "  </tbody>\n",
       "</table>\n",
       "</div>"
      ],
      "text/plain": [
       "               Error Rate  Precision  F-Measure  Sensitivity  Specificity\n",
       "Adaboost_test      0.1258     0.7641     0.7158       0.6732       0.9361"
      ]
     },
     "metadata": {},
     "output_type": "display_data"
    },
    {
     "name": "stdout",
     "output_type": "stream",
     "text": [
      "min_samples_split= 256\n"
     ]
    },
    {
     "data": {
      "text/html": [
       "<div>\n",
       "<style scoped>\n",
       "    .dataframe tbody tr th:only-of-type {\n",
       "        vertical-align: middle;\n",
       "    }\n",
       "\n",
       "    .dataframe tbody tr th {\n",
       "        vertical-align: top;\n",
       "    }\n",
       "\n",
       "    .dataframe thead th {\n",
       "        text-align: right;\n",
       "    }\n",
       "</style>\n",
       "<table border=\"1\" class=\"dataframe\">\n",
       "  <thead>\n",
       "    <tr style=\"text-align: right;\">\n",
       "      <th></th>\n",
       "      <th>Error Rate</th>\n",
       "      <th>Precision</th>\n",
       "      <th>F-Measure</th>\n",
       "      <th>Sensitivity</th>\n",
       "      <th>Specificity</th>\n",
       "    </tr>\n",
       "  </thead>\n",
       "  <tbody>\n",
       "    <tr>\n",
       "      <td>Adaboost_test</td>\n",
       "      <td>0.126</td>\n",
       "      <td>0.7637</td>\n",
       "      <td>0.7154</td>\n",
       "      <td>0.6728</td>\n",
       "      <td>0.936</td>\n",
       "    </tr>\n",
       "  </tbody>\n",
       "</table>\n",
       "</div>"
      ],
      "text/plain": [
       "               Error Rate  Precision  F-Measure  Sensitivity  Specificity\n",
       "Adaboost_test       0.126     0.7637     0.7154       0.6728        0.936"
      ]
     },
     "metadata": {},
     "output_type": "display_data"
    },
    {
     "name": "stdout",
     "output_type": "stream",
     "text": [
      "min_samples_split= 512\n"
     ]
    },
    {
     "data": {
      "text/html": [
       "<div>\n",
       "<style scoped>\n",
       "    .dataframe tbody tr th:only-of-type {\n",
       "        vertical-align: middle;\n",
       "    }\n",
       "\n",
       "    .dataframe tbody tr th {\n",
       "        vertical-align: top;\n",
       "    }\n",
       "\n",
       "    .dataframe thead th {\n",
       "        text-align: right;\n",
       "    }\n",
       "</style>\n",
       "<table border=\"1\" class=\"dataframe\">\n",
       "  <thead>\n",
       "    <tr style=\"text-align: right;\">\n",
       "      <th></th>\n",
       "      <th>Error Rate</th>\n",
       "      <th>Precision</th>\n",
       "      <th>F-Measure</th>\n",
       "      <th>Sensitivity</th>\n",
       "      <th>Specificity</th>\n",
       "    </tr>\n",
       "  </thead>\n",
       "  <tbody>\n",
       "    <tr>\n",
       "      <td>Adaboost_test</td>\n",
       "      <td>0.1246</td>\n",
       "      <td>0.767</td>\n",
       "      <td>0.7186</td>\n",
       "      <td>0.6759</td>\n",
       "      <td>0.9368</td>\n",
       "    </tr>\n",
       "  </tbody>\n",
       "</table>\n",
       "</div>"
      ],
      "text/plain": [
       "               Error Rate  Precision  F-Measure  Sensitivity  Specificity\n",
       "Adaboost_test      0.1246      0.767     0.7186       0.6759       0.9368"
      ]
     },
     "metadata": {},
     "output_type": "display_data"
    },
    {
     "name": "stdout",
     "output_type": "stream",
     "text": [
      "min_samples_split= 1024\n"
     ]
    },
    {
     "data": {
      "text/html": [
       "<div>\n",
       "<style scoped>\n",
       "    .dataframe tbody tr th:only-of-type {\n",
       "        vertical-align: middle;\n",
       "    }\n",
       "\n",
       "    .dataframe tbody tr th {\n",
       "        vertical-align: top;\n",
       "    }\n",
       "\n",
       "    .dataframe thead th {\n",
       "        text-align: right;\n",
       "    }\n",
       "</style>\n",
       "<table border=\"1\" class=\"dataframe\">\n",
       "  <thead>\n",
       "    <tr style=\"text-align: right;\">\n",
       "      <th></th>\n",
       "      <th>Error Rate</th>\n",
       "      <th>Precision</th>\n",
       "      <th>F-Measure</th>\n",
       "      <th>Sensitivity</th>\n",
       "      <th>Specificity</th>\n",
       "    </tr>\n",
       "  </thead>\n",
       "  <tbody>\n",
       "    <tr>\n",
       "      <td>Adaboost_test</td>\n",
       "      <td>0.1275</td>\n",
       "      <td>0.7617</td>\n",
       "      <td>0.711</td>\n",
       "      <td>0.6666</td>\n",
       "      <td>0.9359</td>\n",
       "    </tr>\n",
       "  </tbody>\n",
       "</table>\n",
       "</div>"
      ],
      "text/plain": [
       "               Error Rate  Precision  F-Measure  Sensitivity  Specificity\n",
       "Adaboost_test      0.1275     0.7617      0.711       0.6666       0.9359"
      ]
     },
     "metadata": {},
     "output_type": "display_data"
    },
    {
     "name": "stdout",
     "output_type": "stream",
     "text": [
      "min_samples_split= 2048\n"
     ]
    },
    {
     "data": {
      "text/html": [
       "<div>\n",
       "<style scoped>\n",
       "    .dataframe tbody tr th:only-of-type {\n",
       "        vertical-align: middle;\n",
       "    }\n",
       "\n",
       "    .dataframe tbody tr th {\n",
       "        vertical-align: top;\n",
       "    }\n",
       "\n",
       "    .dataframe thead th {\n",
       "        text-align: right;\n",
       "    }\n",
       "</style>\n",
       "<table border=\"1\" class=\"dataframe\">\n",
       "  <thead>\n",
       "    <tr style=\"text-align: right;\">\n",
       "      <th></th>\n",
       "      <th>Error Rate</th>\n",
       "      <th>Precision</th>\n",
       "      <th>F-Measure</th>\n",
       "      <th>Sensitivity</th>\n",
       "      <th>Specificity</th>\n",
       "    </tr>\n",
       "  </thead>\n",
       "  <tbody>\n",
       "    <tr>\n",
       "      <td>Adaboost_test</td>\n",
       "      <td>0.1262</td>\n",
       "      <td>0.7703</td>\n",
       "      <td>0.7113</td>\n",
       "      <td>0.6606</td>\n",
       "      <td>0.9394</td>\n",
       "    </tr>\n",
       "  </tbody>\n",
       "</table>\n",
       "</div>"
      ],
      "text/plain": [
       "               Error Rate  Precision  F-Measure  Sensitivity  Specificity\n",
       "Adaboost_test      0.1262     0.7703     0.7113       0.6606       0.9394"
      ]
     },
     "metadata": {},
     "output_type": "display_data"
    },
    {
     "name": "stdout",
     "output_type": "stream",
     "text": [
      "min_samples_split= 4096\n"
     ]
    },
    {
     "data": {
      "text/html": [
       "<div>\n",
       "<style scoped>\n",
       "    .dataframe tbody tr th:only-of-type {\n",
       "        vertical-align: middle;\n",
       "    }\n",
       "\n",
       "    .dataframe tbody tr th {\n",
       "        vertical-align: top;\n",
       "    }\n",
       "\n",
       "    .dataframe thead th {\n",
       "        text-align: right;\n",
       "    }\n",
       "</style>\n",
       "<table border=\"1\" class=\"dataframe\">\n",
       "  <thead>\n",
       "    <tr style=\"text-align: right;\">\n",
       "      <th></th>\n",
       "      <th>Error Rate</th>\n",
       "      <th>Precision</th>\n",
       "      <th>F-Measure</th>\n",
       "      <th>Sensitivity</th>\n",
       "      <th>Specificity</th>\n",
       "    </tr>\n",
       "  </thead>\n",
       "  <tbody>\n",
       "    <tr>\n",
       "      <td>Adaboost_test</td>\n",
       "      <td>0.1251</td>\n",
       "      <td>0.7686</td>\n",
       "      <td>0.7161</td>\n",
       "      <td>0.6704</td>\n",
       "      <td>0.9379</td>\n",
       "    </tr>\n",
       "  </tbody>\n",
       "</table>\n",
       "</div>"
      ],
      "text/plain": [
       "               Error Rate  Precision  F-Measure  Sensitivity  Specificity\n",
       "Adaboost_test      0.1251     0.7686     0.7161       0.6704       0.9379"
      ]
     },
     "metadata": {},
     "output_type": "display_data"
    },
    {
     "name": "stdout",
     "output_type": "stream",
     "text": [
      "min_samples_split= 8192\n"
     ]
    },
    {
     "data": {
      "text/html": [
       "<div>\n",
       "<style scoped>\n",
       "    .dataframe tbody tr th:only-of-type {\n",
       "        vertical-align: middle;\n",
       "    }\n",
       "\n",
       "    .dataframe tbody tr th {\n",
       "        vertical-align: top;\n",
       "    }\n",
       "\n",
       "    .dataframe thead th {\n",
       "        text-align: right;\n",
       "    }\n",
       "</style>\n",
       "<table border=\"1\" class=\"dataframe\">\n",
       "  <thead>\n",
       "    <tr style=\"text-align: right;\">\n",
       "      <th></th>\n",
       "      <th>Error Rate</th>\n",
       "      <th>Precision</th>\n",
       "      <th>F-Measure</th>\n",
       "      <th>Sensitivity</th>\n",
       "      <th>Specificity</th>\n",
       "    </tr>\n",
       "  </thead>\n",
       "  <tbody>\n",
       "    <tr>\n",
       "      <td>Adaboost_test</td>\n",
       "      <td>0.1263</td>\n",
       "      <td>0.7676</td>\n",
       "      <td>0.7123</td>\n",
       "      <td>0.6645</td>\n",
       "      <td>0.9381</td>\n",
       "    </tr>\n",
       "  </tbody>\n",
       "</table>\n",
       "</div>"
      ],
      "text/plain": [
       "               Error Rate  Precision  F-Measure  Sensitivity  Specificity\n",
       "Adaboost_test      0.1263     0.7676     0.7123       0.6645       0.9381"
      ]
     },
     "metadata": {},
     "output_type": "display_data"
    },
    {
     "name": "stdout",
     "output_type": "stream",
     "text": [
      "min_samples_split= 16384\n"
     ]
    },
    {
     "data": {
      "text/html": [
       "<div>\n",
       "<style scoped>\n",
       "    .dataframe tbody tr th:only-of-type {\n",
       "        vertical-align: middle;\n",
       "    }\n",
       "\n",
       "    .dataframe tbody tr th {\n",
       "        vertical-align: top;\n",
       "    }\n",
       "\n",
       "    .dataframe thead th {\n",
       "        text-align: right;\n",
       "    }\n",
       "</style>\n",
       "<table border=\"1\" class=\"dataframe\">\n",
       "  <thead>\n",
       "    <tr style=\"text-align: right;\">\n",
       "      <th></th>\n",
       "      <th>Error Rate</th>\n",
       "      <th>Precision</th>\n",
       "      <th>F-Measure</th>\n",
       "      <th>Sensitivity</th>\n",
       "      <th>Specificity</th>\n",
       "    </tr>\n",
       "  </thead>\n",
       "  <tbody>\n",
       "    <tr>\n",
       "      <td>Adaboost_test</td>\n",
       "      <td>0.1271</td>\n",
       "      <td>0.7507</td>\n",
       "      <td>0.7182</td>\n",
       "      <td>0.6885</td>\n",
       "      <td>0.9296</td>\n",
       "    </tr>\n",
       "  </tbody>\n",
       "</table>\n",
       "</div>"
      ],
      "text/plain": [
       "               Error Rate  Precision  F-Measure  Sensitivity  Specificity\n",
       "Adaboost_test      0.1271     0.7507     0.7182       0.6885       0.9296"
      ]
     },
     "metadata": {},
     "output_type": "display_data"
    }
   ],
   "source": [
    "bestdepth = 2\n",
    "ms = []\n",
    "errTr = []\n",
    "errTe = []\n",
    "for i in range (2,15):\n",
    "    ada = AdaBoostClassifier(base_estimator=DecisionTreeClassifier(max_depth=bestdepth, min_samples_split = 2**i), n_estimators=100)                     \n",
    "    print('min_samples_split=',2**i)\n",
    "    ada.fit(train_data, train_label)\n",
    "    ada_pred = ada.predict(test_data)\n",
    "    adaboost_test = evaluate_model(test_label, ada_pred)\n",
    "    overall_ada = round(pd.DataFrame([adaboost_test], index=['Adaboost_test']), 4)\n",
    "    display(overall_ada)\n",
    "    errTe.append(round(adaboost_test['Error Rate'],4))\n",
    "    \n",
    "    ada_pred_tr = ada.predict(train_data)\n",
    "    adaboost_tr = evaluate_model(train_label, ada_pred_tr)\n",
    "    overall_ada_tr = round(pd.DataFrame([adaboost_tr], index=['Adaboost_training']), 4)\n",
    "    #display(overall_ada_tr)\n",
    "    errTr.append(round(adaboost_tr['Error Rate'],4))\n",
    "    ms.append(i)\n",
    "\n"
   ]
  },
  {
   "cell_type": "code",
   "execution_count": 55,
   "metadata": {},
   "outputs": [
    {
     "data": {
      "image/png": "[encoded data removed]",
      "text/plain": [
       "<Figure size 432x288 with 1 Axes>"
      ]
     },
     "metadata": {
      "needs_background": "light"
     },
     "output_type": "display_data"
    }
   ],
   "source": [
    "ms = []\n",
    "for i in range(2,15):\n",
    "    ms.append(i)\n",
    "plt.plot(ms,errTr,label='Training')\n",
    "plt.plot(ms,errTe, label='Test')\n",
    "plt.xlabel(\"minParent\")\n",
    "plt.ylabel(\"Error\")\n",
    "plt.legend(loc='lower right')\n",
    "plt.show()\n"
   ]
  },
  {
   "cell_type": "code",
   "execution_count": 56,
   "metadata": {},
   "outputs": [
    {
     "data": {
      "text/plain": [
       "512"
      ]
     },
     "execution_count": 56,
     "metadata": {},
     "output_type": "execute_result"
    }
   ],
   "source": [
    "bestMinPar = 2 ** (np.argmin(errTe) + 2)\n",
    "bestMinPar"
   ]
  },
  {
   "cell_type": "code",
   "execution_count": 46,
   "metadata": {},
   "outputs": [
    {
     "data": {
      "text/plain": [
       "[2, 3, 4, 5, 6, 7, 8, 9, 10, 11, 12, 13, 14]"
      ]
     },
     "execution_count": 46,
     "metadata": {},
     "output_type": "execute_result"
    }
   ],
   "source": [
    "ms"
   ]
  },
  {
   "cell_type": "code",
   "execution_count": 68,
   "metadata": {},
   "outputs": [
    {
     "data": {
      "text/html": [
       "<div>\n",
       "<style scoped>\n",
       "    .dataframe tbody tr th:only-of-type {\n",
       "        vertical-align: middle;\n",
       "    }\n",
       "\n",
       "    .dataframe tbody tr th {\n",
       "        vertical-align: top;\n",
       "    }\n",
       "\n",
       "    .dataframe thead th {\n",
       "        text-align: right;\n",
       "    }\n",
       "</style>\n",
       "<table border=\"1\" class=\"dataframe\">\n",
       "  <thead>\n",
       "    <tr style=\"text-align: right;\">\n",
       "      <th></th>\n",
       "      <th>Error Rate</th>\n",
       "      <th>Precision</th>\n",
       "      <th>F-Measure</th>\n",
       "      <th>Sensitivity</th>\n",
       "      <th>Specificity</th>\n",
       "    </tr>\n",
       "  </thead>\n",
       "  <tbody>\n",
       "    <tr>\n",
       "      <td>Adaboost</td>\n",
       "      <td>0.1246</td>\n",
       "      <td>0.767</td>\n",
       "      <td>0.7186</td>\n",
       "      <td>0.6759</td>\n",
       "      <td>0.9368</td>\n",
       "    </tr>\n",
       "  </tbody>\n",
       "</table>\n",
       "</div>"
      ],
      "text/plain": [
       "          Error Rate  Precision  F-Measure  Sensitivity  Specificity\n",
       "Adaboost      0.1246      0.767     0.7186       0.6759       0.9368"
      ]
     },
     "metadata": {},
     "output_type": "display_data"
    }
   ],
   "source": [
    "\n",
    "ada = AdaBoostClassifier(base_estimator=DecisionTreeClassifier(max_depth=bestdepth,min_samples_split = bestMinPar ), n_estimators=100)                     \n",
    "ada.fit(train_data, train_label)\n",
    "ada_pred = ada.predict(test_data)\n",
    "adaboost = evaluate_model(test_label, ada_pred)\n",
    "overall_ada = round(pd.DataFrame([adaboost], index=['Adaboost']), 4)\n",
    "display(overall_ada)"
   ]
  },
  {
   "cell_type": "markdown",
   "metadata": {},
   "source": [
    "##### Adaboost with PCA:"
   ]
  },
  {
   "cell_type": "code",
   "execution_count": 67,
   "metadata": {
    "scrolled": false
   },
   "outputs": [
    {
     "data": {
      "text/html": [
       "<div>\n",
       "<style scoped>\n",
       "    .dataframe tbody tr th:only-of-type {\n",
       "        vertical-align: middle;\n",
       "    }\n",
       "\n",
       "    .dataframe tbody tr th {\n",
       "        vertical-align: top;\n",
       "    }\n",
       "\n",
       "    .dataframe thead th {\n",
       "        text-align: right;\n",
       "    }\n",
       "</style>\n",
       "<table border=\"1\" class=\"dataframe\">\n",
       "  <thead>\n",
       "    <tr style=\"text-align: right;\">\n",
       "      <th></th>\n",
       "      <th>Error Rate</th>\n",
       "      <th>Precision</th>\n",
       "      <th>F-Measure</th>\n",
       "      <th>Sensitivity</th>\n",
       "      <th>Specificity</th>\n",
       "    </tr>\n",
       "  </thead>\n",
       "  <tbody>\n",
       "    <tr>\n",
       "      <td>Adaboost-PCA</td>\n",
       "      <td>0.1583</td>\n",
       "      <td>0.6842</td>\n",
       "      <td>0.6437</td>\n",
       "      <td>0.6077</td>\n",
       "      <td>0.9137</td>\n",
       "    </tr>\n",
       "  </tbody>\n",
       "</table>\n",
       "</div>"
      ],
      "text/plain": [
       "              Error Rate  Precision  F-Measure  Sensitivity  Specificity\n",
       "Adaboost-PCA      0.1583     0.6842     0.6437       0.6077       0.9137"
      ]
     },
     "metadata": {},
     "output_type": "display_data"
    }
   ],
   "source": [
    "ada_pca = AdaBoostClassifier(base_estimator=DecisionTreeClassifier(max_depth=2,min_samples_split = bestMinPar ), n_estimators=100)                     \n",
    "ada_pca.fit(X_train_pca, train_label)\n",
    "ada_pca_pred = ada_pca.predict(X_test_pca)\n",
    "adaboost_PCA = evaluate_model(test_label, ada_pca_pred)\n",
    "overall_ada_pca = round(pd.DataFrame([adaboost_PCA], index=['Adaboost-PCA']), 4)\n",
    "display(overall_ada_pca)"
   ]
  },
  {
   "cell_type": "markdown",
   "metadata": {},
   "source": [
    "It can be seen that Adaboost has the best accuracy thus far.\n",
    "\n",
    "#### 5.6 Logistic Regression\n"
   ]
  },
  {
   "cell_type": "code",
   "execution_count": 95,
   "metadata": {
    "pycharm": {
     "is_executing": false,
     "name": "#%%\n"
    }
   },
   "outputs": [
    {
     "data": {
      "text/html": [
       "<div>\n",
       "<style scoped>\n",
       "    .dataframe tbody tr th:only-of-type {\n",
       "        vertical-align: middle;\n",
       "    }\n",
       "\n",
       "    .dataframe tbody tr th {\n",
       "        vertical-align: top;\n",
       "    }\n",
       "\n",
       "    .dataframe thead th {\n",
       "        text-align: right;\n",
       "    }\n",
       "</style>\n",
       "<table border=\"1\" class=\"dataframe\">\n",
       "  <thead>\n",
       "    <tr style=\"text-align: right;\">\n",
       "      <th></th>\n",
       "      <th>Error Rate</th>\n",
       "      <th>Precision</th>\n",
       "      <th>F-Measure</th>\n",
       "      <th>Sensitivity</th>\n",
       "      <th>Specificity</th>\n",
       "    </tr>\n",
       "  </thead>\n",
       "  <tbody>\n",
       "    <tr>\n",
       "      <td>Logistic Regression</td>\n",
       "      <td>0.1455</td>\n",
       "      <td>0.7242</td>\n",
       "      <td>0.6658</td>\n",
       "      <td>0.6161</td>\n",
       "      <td>0.9278</td>\n",
       "    </tr>\n",
       "  </tbody>\n",
       "</table>\n",
       "</div>"
      ],
      "text/plain": [
       "                     Error Rate  Precision  F-Measure  Sensitivity  \\\n",
       "Logistic Regression      0.1455     0.7242     0.6658       0.6161   \n",
       "\n",
       "                     Specificity  \n",
       "Logistic Regression       0.9278  "
      ]
     },
     "metadata": {},
     "output_type": "display_data"
    }
   ],
   "source": [
    "# 'penalty' is the regularization penalty\n",
    "# 'tol' is the tolerance for stopping criteria\n",
    "# 'fit-intercept' specifies if a constant should be added to the decision function\n",
    "log_reg = LogisticRegression(penalty='l2', dual=False, tol=1e-4, fit_intercept=True, solver='liblinear')\n",
    "log_reg.fit(train_data, train_label)\n",
    "log_reg_pred = log_reg.predict(test_data)\n",
    "logistic_reg = evaluate_model(test_label, log_reg_pred)\n",
    "\n",
    "overall_logreg = round(pd.DataFrame([logistic_reg], index=['Logistic Regression']), 4)\n",
    "display(overall_logreg)"
   ]
  },
  {
   "cell_type": "markdown",
   "metadata": {},
   "source": [
    "#### 5.7 K Nearest Neighbors\n",
    "\n",
    "- We evaluated the performance of K Nearest Neighbor classifiers for different values of K\n",
    "ranging from 1 to 30 in steps of 2."
   ]
  },
  {
   "cell_type": "code",
   "execution_count": 31,
   "metadata": {
    "pycharm": {
     "is_executing": false,
     "name": "#%%\n"
    }
   },
   "outputs": [],
   "source": [
    "#new\n",
    "knn_outs = []\n",
    "knn_outstr = []\n",
    "errTe= []\n",
    "errTr = []\n",
    "for i in range(1,50,3):\n",
    "    knn = KNeighborsClassifier(n_neighbors=i)\n",
    "    knn.fit(train_data, train_label) \n",
    "    knn_pred = knn.predict(test_data)\n",
    "    knn_perf = evaluate_model(test_label, knn_pred)\n",
    "    knn_perf['k'] = i\n",
    "    knn_outs.append(knn_perf)\n",
    "    errTe.append(round(knn_perf['Error Rate'],4))\n",
    "    knn_pred = knn.predict(train_data)\n",
    "    knn_perf = evaluate_model(train_label, knn_pred)\n",
    "    errTr.append(round(knn_perf['Error Rate'],4))\n",
    "    knn_outstr.append(knn_perf)\n",
    "#overall_knn = round(pd.DataFrame(knn_outs), 4)\n",
    "#display(overall_knn)"
   ]
  },
  {
   "cell_type": "code",
   "execution_count": 32,
   "metadata": {},
   "outputs": [
    {
     "data": {
      "image/png": "[encoded data removed]",
      "text/plain": [
       "<Figure size 432x288 with 1 Axes>"
      ]
     },
     "metadata": {
      "needs_background": "light"
     },
     "output_type": "display_data"
    }
   ],
   "source": [
    "ms = []\n",
    "for i in range(1,50,3):\n",
    "    ms.append(i)\n",
    "plt.plot(ms,errTe, label='Test')\n",
    "plt.plot(ms,errTr, label='Train')\n",
    "plt.xlabel(\"n_neighbors\")\n",
    "plt.ylabel(\"Error\")\n",
    "plt.legend(loc='lower right')\n",
    "plt.show()"
   ]
  },
  {
   "cell_type": "code",
   "execution_count": 33,
   "metadata": {},
   "outputs": [
    {
     "data": {
      "text/html": [
       "<div>\n",
       "<style scoped>\n",
       "    .dataframe tbody tr th:only-of-type {\n",
       "        vertical-align: middle;\n",
       "    }\n",
       "\n",
       "    .dataframe tbody tr th {\n",
       "        vertical-align: top;\n",
       "    }\n",
       "\n",
       "    .dataframe thead th {\n",
       "        text-align: right;\n",
       "    }\n",
       "</style>\n",
       "<table border=\"1\" class=\"dataframe\">\n",
       "  <thead>\n",
       "    <tr style=\"text-align: right;\">\n",
       "      <th></th>\n",
       "      <th>Error Rate</th>\n",
       "      <th>Precision</th>\n",
       "      <th>F-Measure</th>\n",
       "      <th>Sensitivity</th>\n",
       "      <th>Specificity</th>\n",
       "      <th>k</th>\n",
       "    </tr>\n",
       "  </thead>\n",
       "  <tbody>\n",
       "    <tr>\n",
       "      <td>0</td>\n",
       "      <td>0.2065</td>\n",
       "      <td>0.5601</td>\n",
       "      <td>0.5654</td>\n",
       "      <td>0.5708</td>\n",
       "      <td>0.8621</td>\n",
       "      <td>1</td>\n",
       "    </tr>\n",
       "    <tr>\n",
       "      <td>1</td>\n",
       "      <td>0.1762</td>\n",
       "      <td>0.6818</td>\n",
       "      <td>0.5568</td>\n",
       "      <td>0.4706</td>\n",
       "      <td>0.9324</td>\n",
       "      <td>4</td>\n",
       "    </tr>\n",
       "    <tr>\n",
       "      <td>2</td>\n",
       "      <td>0.1734</td>\n",
       "      <td>0.6437</td>\n",
       "      <td>0.6153</td>\n",
       "      <td>0.5893</td>\n",
       "      <td>0.8997</td>\n",
       "      <td>7</td>\n",
       "    </tr>\n",
       "    <tr>\n",
       "      <td>3</td>\n",
       "      <td>0.1733</td>\n",
       "      <td>0.6712</td>\n",
       "      <td>0.5838</td>\n",
       "      <td>0.5165</td>\n",
       "      <td>0.9221</td>\n",
       "      <td>10</td>\n",
       "    </tr>\n",
       "    <tr>\n",
       "      <td>4</td>\n",
       "      <td>0.1714</td>\n",
       "      <td>0.6520</td>\n",
       "      <td>0.6152</td>\n",
       "      <td>0.5823</td>\n",
       "      <td>0.9044</td>\n",
       "      <td>13</td>\n",
       "    </tr>\n",
       "    <tr>\n",
       "      <td>5</td>\n",
       "      <td>0.1702</td>\n",
       "      <td>0.6723</td>\n",
       "      <td>0.5988</td>\n",
       "      <td>0.5399</td>\n",
       "      <td>0.9190</td>\n",
       "      <td>16</td>\n",
       "    </tr>\n",
       "    <tr>\n",
       "      <td>6</td>\n",
       "      <td>0.1693</td>\n",
       "      <td>0.6588</td>\n",
       "      <td>0.6180</td>\n",
       "      <td>0.5820</td>\n",
       "      <td>0.9073</td>\n",
       "      <td>19</td>\n",
       "    </tr>\n",
       "    <tr>\n",
       "      <td>7</td>\n",
       "      <td>0.1692</td>\n",
       "      <td>0.6731</td>\n",
       "      <td>0.6030</td>\n",
       "      <td>0.5461</td>\n",
       "      <td>0.9184</td>\n",
       "      <td>22</td>\n",
       "    </tr>\n",
       "    <tr>\n",
       "      <td>8</td>\n",
       "      <td>0.1707</td>\n",
       "      <td>0.6575</td>\n",
       "      <td>0.6121</td>\n",
       "      <td>0.5726</td>\n",
       "      <td>0.9082</td>\n",
       "      <td>25</td>\n",
       "    </tr>\n",
       "    <tr>\n",
       "      <td>9</td>\n",
       "      <td>0.1727</td>\n",
       "      <td>0.6620</td>\n",
       "      <td>0.5968</td>\n",
       "      <td>0.5433</td>\n",
       "      <td>0.9146</td>\n",
       "      <td>28</td>\n",
       "    </tr>\n",
       "    <tr>\n",
       "      <td>10</td>\n",
       "      <td>0.1721</td>\n",
       "      <td>0.6561</td>\n",
       "      <td>0.6069</td>\n",
       "      <td>0.5646</td>\n",
       "      <td>0.9090</td>\n",
       "      <td>31</td>\n",
       "    </tr>\n",
       "    <tr>\n",
       "      <td>11</td>\n",
       "      <td>0.1732</td>\n",
       "      <td>0.6602</td>\n",
       "      <td>0.5963</td>\n",
       "      <td>0.5437</td>\n",
       "      <td>0.9139</td>\n",
       "      <td>34</td>\n",
       "    </tr>\n",
       "    <tr>\n",
       "      <td>12</td>\n",
       "      <td>0.1712</td>\n",
       "      <td>0.6577</td>\n",
       "      <td>0.6094</td>\n",
       "      <td>0.5677</td>\n",
       "      <td>0.9091</td>\n",
       "      <td>37</td>\n",
       "    </tr>\n",
       "    <tr>\n",
       "      <td>13</td>\n",
       "      <td>0.1718</td>\n",
       "      <td>0.6634</td>\n",
       "      <td>0.5999</td>\n",
       "      <td>0.5475</td>\n",
       "      <td>0.9145</td>\n",
       "      <td>40</td>\n",
       "    </tr>\n",
       "    <tr>\n",
       "      <td>14</td>\n",
       "      <td>0.1715</td>\n",
       "      <td>0.6587</td>\n",
       "      <td>0.6070</td>\n",
       "      <td>0.5628</td>\n",
       "      <td>0.9103</td>\n",
       "      <td>43</td>\n",
       "    </tr>\n",
       "    <tr>\n",
       "      <td>15</td>\n",
       "      <td>0.1713</td>\n",
       "      <td>0.6651</td>\n",
       "      <td>0.6006</td>\n",
       "      <td>0.5475</td>\n",
       "      <td>0.9152</td>\n",
       "      <td>46</td>\n",
       "    </tr>\n",
       "    <tr>\n",
       "      <td>16</td>\n",
       "      <td>0.1703</td>\n",
       "      <td>0.6620</td>\n",
       "      <td>0.6090</td>\n",
       "      <td>0.5639</td>\n",
       "      <td>0.9114</td>\n",
       "      <td>49</td>\n",
       "    </tr>\n",
       "  </tbody>\n",
       "</table>\n",
       "</div>"
      ],
      "text/plain": [
       "    Error Rate  Precision  F-Measure  Sensitivity  Specificity   k\n",
       "0       0.2065     0.5601     0.5654       0.5708       0.8621   1\n",
       "1       0.1762     0.6818     0.5568       0.4706       0.9324   4\n",
       "2       0.1734     0.6437     0.6153       0.5893       0.8997   7\n",
       "3       0.1733     0.6712     0.5838       0.5165       0.9221  10\n",
       "4       0.1714     0.6520     0.6152       0.5823       0.9044  13\n",
       "5       0.1702     0.6723     0.5988       0.5399       0.9190  16\n",
       "6       0.1693     0.6588     0.6180       0.5820       0.9073  19\n",
       "7       0.1692     0.6731     0.6030       0.5461       0.9184  22\n",
       "8       0.1707     0.6575     0.6121       0.5726       0.9082  25\n",
       "9       0.1727     0.6620     0.5968       0.5433       0.9146  28\n",
       "10      0.1721     0.6561     0.6069       0.5646       0.9090  31\n",
       "11      0.1732     0.6602     0.5963       0.5437       0.9139  34\n",
       "12      0.1712     0.6577     0.6094       0.5677       0.9091  37\n",
       "13      0.1718     0.6634     0.5999       0.5475       0.9145  40\n",
       "14      0.1715     0.6587     0.6070       0.5628       0.9103  43\n",
       "15      0.1713     0.6651     0.6006       0.5475       0.9152  46\n",
       "16      0.1703     0.6620     0.6090       0.5639       0.9114  49"
      ]
     },
     "metadata": {},
     "output_type": "display_data"
    }
   ],
   "source": [
    "overall_knn = round(pd.DataFrame(knn_outs), 4)\n",
    "\n",
    "display(pd.DataFrame(overall_knn))"
   ]
  },
  {
   "cell_type": "markdown",
   "metadata": {
    "pycharm": {
     "name": "#%% md\n"
    }
   },
   "source": [
    "### 6.0 Model Comparison\n",
    "\n",
    "#### 6.1 Statistics for all models developed"
   ]
  },
  {
   "cell_type": "code",
   "execution_count": 94,
   "metadata": {
    "pycharm": {
     "is_executing": false,
     "name": "#%%\n"
    }
   },
   "outputs": [
    {
     "ename": "NameError",
     "evalue": "name 'overall_logreg' is not defined",
     "output_type": "error",
     "traceback": [
      "\u001b[0;31m---------------------------------------------------------------------------\u001b[0m",
      "\u001b[0;31mNameError\u001b[0m                                 Traceback (most recent call last)",
      "\u001b[0;32m<ipython-input-94-0f470dce0bfe>\u001b[0m in \u001b[0;36m<module>\u001b[0;34m\u001b[0m\n\u001b[0;32m----> 1\u001b[0;31m \u001b[0moverall_eval\u001b[0m \u001b[0;34m=\u001b[0m \u001b[0mpd\u001b[0m\u001b[0;34m.\u001b[0m\u001b[0mconcat\u001b[0m\u001b[0;34m(\u001b[0m\u001b[0;34m[\u001b[0m\u001b[0moverall_dtree\u001b[0m\u001b[0;34m,\u001b[0m \u001b[0moverall_ann\u001b[0m\u001b[0;34m,\u001b[0m \u001b[0moverall_svm\u001b[0m\u001b[0;34m,\u001b[0m \u001b[0moverall_rf\u001b[0m\u001b[0;34m,\u001b[0m \u001b[0moverall_ada\u001b[0m\u001b[0;34m,\u001b[0m \u001b[0moverall_logreg\u001b[0m\u001b[0;34m]\u001b[0m\u001b[0;34m,\u001b[0m \u001b[0maxis\u001b[0m\u001b[0;34m=\u001b[0m\u001b[0;36m0\u001b[0m\u001b[0;34m)\u001b[0m\u001b[0;34m\u001b[0m\u001b[0;34m\u001b[0m\u001b[0m\n\u001b[0m\u001b[1;32m      2\u001b[0m \u001b[0moverall_eval\u001b[0m\u001b[0;34m.\u001b[0m\u001b[0msort_values\u001b[0m\u001b[0;34m(\u001b[0m\u001b[0mby\u001b[0m \u001b[0;34m=\u001b[0m \u001b[0;34m[\u001b[0m\u001b[0;34m'F-Measure'\u001b[0m\u001b[0;34m,\u001b[0m \u001b[0;34m'Accuracy'\u001b[0m\u001b[0;34m]\u001b[0m\u001b[0;34m,\u001b[0m \u001b[0mascending\u001b[0m\u001b[0;34m=\u001b[0m\u001b[0;32mFalse\u001b[0m\u001b[0;34m,\u001b[0m \u001b[0minplace\u001b[0m\u001b[0;34m=\u001b[0m\u001b[0;32mTrue\u001b[0m\u001b[0;34m)\u001b[0m\u001b[0;34m\u001b[0m\u001b[0;34m\u001b[0m\u001b[0m\n\u001b[1;32m      3\u001b[0m \u001b[0mdisplay\u001b[0m\u001b[0;34m(\u001b[0m\u001b[0moverall_eval\u001b[0m\u001b[0;34m)\u001b[0m\u001b[0;34m\u001b[0m\u001b[0;34m\u001b[0m\u001b[0m\n",
      "\u001b[0;31mNameError\u001b[0m: name 'overall_logreg' is not defined"
     ]
    }
   ],
   "source": [
    "overall_eval = pd.concat([overall_dtree, overall_ann, overall_svm, overall_rf, overall_ada, overall_logreg], axis=0)\n",
    "overall_eval.sort_values(by = ['F-Measure', 'Accuracy'], ascending=False, inplace=True)\n",
    "display(overall_eval)"
   ]
  },
  {
   "cell_type": "markdown",
   "metadata": {},
   "source": [
    "From the table above we can see that the Adaboost model has the highest accuracy and F-measure values.\n",
    "It is followed by the artificial neural networks with various activation functions.\n",
    "\n",
    "#### 6.2 ROC Curves"
   ]
  },
  {
   "cell_type": "code",
   "execution_count": 93,
   "metadata": {
    "pycharm": {
     "is_executing": false,
     "name": "#%%\n"
    }
   },
   "outputs": [
    {
     "data": {
      "image/png": "[encoded data removed]",
      "text/plain": [
       "<Figure size 720x720 with 1 Axes>"
      ]
     },
     "metadata": {
      "needs_background": "light"
     },
     "output_type": "display_data"
    }
   ],
   "source": [
    "# function to plot ROC curves of input classifiers\n",
    "def generate_roc(test_data, test_label, classifiers, pred_labels, plot_labels, plot_colors):\n",
    "    \n",
    "    # encode class '<=50K' as '0' and class '>50K' as '1'\n",
    "    y_test = label_binarize(test_label, classes=['<=50K', '>50K'])\n",
    "    \n",
    "    plt.figure(figsize=(10,10))\n",
    "    \n",
    "    for i in range(len(classifiers)):\n",
    "        # for classifier i, predict the probabilities of outputs\n",
    "        # outputs can only be 0 or 1 ('<=50K' or '>50K')\n",
    "        # y_score stores probabilities for both outputs for every row of test_data\n",
    "        y_score = classifiers[i].predict_proba(test_data)\n",
    "        \n",
    "        # the roc_curve function takes the actual output and the probability that output=1 to plot the ROC curve\n",
    "        # y_test stores the expected output labels for every row of test data\n",
    "        # y_score stores the probability that output = 1 in column with index 1\n",
    "        fpr, tpr, threshold = metrics.roc_curve(y_test.ravel(), y_score[:,1], pos_label=1)\n",
    "        \n",
    "        plt.plot(fpr, tpr, color=plot_colors[i], linewidth=2, label=plot_labels[i])\n",
    "    \n",
    "    plt.plot([0, 1], [0, 1], color='red', lw=2, linestyle='--')\n",
    "    plt.xlim([0.0, 1.0])\n",
    "    plt.ylim([0.0, 1.0])\n",
    "    plt.xlabel('False Positive Rate')\n",
    "    plt.ylabel('True Positive Rate')\n",
    "    plt.title('ROC curves for the best five classifiers')\n",
    "    plt.legend()\n",
    "    plt.show()\n",
    "\n",
    "# gather all classifiers, their corresponding predictions, their corresponding labels and colors\n",
    "classifier_list = [ada, clf_gini, r_forest_entropy, clf_entropy, r_forest_gini]\n",
    "predictions_list = [ada_pred, clf_gini_pred, r_forest_entropy_pred, clf_entropy_pred, r_forest_gini_pred]\n",
    "classifier_labels = ['Adaboost', 'DTree_Gini', 'rforest_entropy', 'DTree_Entropy', 'rforest_gini']\n",
    "classifier_colors = ['tab:blue', 'tab:orange', 'tab:green', 'tab:red', 'tab:purple']\n",
    "\n",
    "# plot the ROC curves for all five classifiers\n",
    "generate_roc(test_data, test_label, classifier_list, predictions_list, classifier_labels, classifier_colors)"
   ]
  },
  {
   "cell_type": "markdown",
   "metadata": {},
   "source": [
    "We plotted the ROC curves of five models with the best values for accuracy and F-measure.\n",
    "It can be seen that the Adaboost model has the best characteristics as it is closest to\n",
    "the top right corner where true positive rate = 1 and false positive rate = 0.\n",
    "\n",
    "### 7.0 Conclusion\n",
    "\n",
    "Of all the models we trained, the Adaboost model performed the best on the test data.\n"
   ]
  }
 ],
 "metadata": {
  "kernelspec": {
   "display_name": "Python 3",
   "language": "python",
   "name": "python3"
  },
  "language_info": {
   "codemirror_mode": {
    "name": "ipython",
    "version": 3
   },
   "file_extension": ".py",
   "mimetype": "text/x-python",
   "name": "python",
   "nbconvert_exporter": "python",
   "pygments_lexer": "ipython3",
   "version": "3.7.4"
  },
  "pycharm": {
   "stem_cell": {
    "cell_type": "raw",
    "metadata": {
     "collapsed": false
    },
    "source": []
   }
  }
 },
 "nbformat": 4,
 "nbformat_minor": 1
}
